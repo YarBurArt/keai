{
 "cells": [
  {
   "cell_type": "code",
   "execution_count": 1,
   "id": "31842f38",
   "metadata": {},
   "outputs": [
    {
     "name": "stderr",
     "output_type": "stream",
     "text": [
      "2022-12-11 09:45:06.448540: I tensorflow/core/platform/cpu_feature_guard.cc:193] This TensorFlow binary is optimized with oneAPI Deep Neural Network Library (oneDNN) to use the following CPU instructions in performance-critical operations:  AVX2 FMA\n",
      "To enable them in other operations, rebuild TensorFlow with the appropriate compiler flags.\n",
      "2022-12-11 09:45:06.703955: W tensorflow/compiler/xla/stream_executor/platform/default/dso_loader.cc:64] Could not load dynamic library 'libcudart.so.11.0'; dlerror: libcudart.so.11.0: cannot open shared object file: No such file or directory\n",
      "2022-12-11 09:45:06.703975: I tensorflow/compiler/xla/stream_executor/cuda/cudart_stub.cc:29] Ignore above cudart dlerror if you do not have a GPU set up on your machine.\n",
      "2022-12-11 09:45:07.774870: W tensorflow/compiler/xla/stream_executor/platform/default/dso_loader.cc:64] Could not load dynamic library 'libnvinfer.so.7'; dlerror: libnvinfer.so.7: cannot open shared object file: No such file or directory\n",
      "2022-12-11 09:45:07.774937: W tensorflow/compiler/xla/stream_executor/platform/default/dso_loader.cc:64] Could not load dynamic library 'libnvinfer_plugin.so.7'; dlerror: libnvinfer_plugin.so.7: cannot open shared object file: No such file or directory\n",
      "2022-12-11 09:45:07.774945: W tensorflow/compiler/tf2tensorrt/utils/py_utils.cc:38] TF-TRT Warning: Cannot dlopen some TensorRT libraries. If you would like to use Nvidia GPU with TensorRT, please make sure the missing libraries mentioned above are installed properly.\n"
     ]
    }
   ],
   "source": [
    "import keras\n",
    "from keras import layers\n",
    "import numpy as np\n",
    "import random\n",
    "import io"
   ]
  },
  {
   "cell_type": "code",
   "execution_count": 2,
   "id": "7a9223de",
   "metadata": {},
   "outputs": [
    {
     "name": "stdout",
     "output_type": "stream",
     "text": [
      "Downloading data from https://s3.amazonaws.com/text-datasets/nietzsche.txt\n",
      "600901/600901 [==============================] - 1s 2us/step\n",
      "Corpus length: 600893\n",
      "Total chars: 56\n",
      "Number of sequences: 200285\n"
     ]
    },
    {
     "name": "stderr",
     "output_type": "stream",
     "text": [
      "/tmp/ipykernel_136402/1111328618.py:24: DeprecationWarning: `np.bool` is a deprecated alias for the builtin `bool`. To silence this warning, use `bool` by itself. Doing this will not modify any behavior and is safe. If you specifically wanted the numpy scalar type, use `np.bool_` here.\n",
      "Deprecated in NumPy 1.20; for more details and guidance: https://numpy.org/devdocs/release/1.20.0-notes.html#deprecations\n",
      "  x = np.zeros((len(sentences), maxlen, len(chars)), dtype=np.bool)\n",
      "/tmp/ipykernel_136402/1111328618.py:25: DeprecationWarning: `np.bool` is a deprecated alias for the builtin `bool`. To silence this warning, use `bool` by itself. Doing this will not modify any behavior and is safe. If you specifically wanted the numpy scalar type, use `np.bool_` here.\n",
      "Deprecated in NumPy 1.20; for more details and guidance: https://numpy.org/devdocs/release/1.20.0-notes.html#deprecations\n",
      "  y = np.zeros((len(sentences), len(chars)), dtype=np.bool)\n"
     ]
    }
   ],
   "source": [
    "path = keras.utils.get_file(\n",
    "    \"nietzsche.txt\", origin=\"https://s3.amazonaws.com/text-datasets/nietzsche.txt\"\n",
    ")\n",
    "with io.open(path, encoding=\"utf-8\") as f:\n",
    "    text = f.read().lower()\n",
    "text = text.replace(\"\\n\", \" \")  # We remove newlines chars for nicer display\n",
    "print(\"Corpus length:\", len(text))\n",
    "\n",
    "chars = sorted(list(set(text)))\n",
    "print(\"Total chars:\", len(chars))\n",
    "char_indices = dict((c, i) for i, c in enumerate(chars))\n",
    "indices_char = dict((i, c) for i, c in enumerate(chars))\n",
    "\n",
    "# cut the text in semi-redundant sequences of maxlen characters\n",
    "maxlen = 40\n",
    "step = 3\n",
    "sentences = []\n",
    "next_chars = []\n",
    "for i in range(0, len(text) - maxlen, step):\n",
    "    sentences.append(text[i : i + maxlen])\n",
    "    next_chars.append(text[i + maxlen])\n",
    "print(\"Number of sequences:\", len(sentences))\n",
    "\n",
    "x = np.zeros((len(sentences), maxlen, len(chars)), dtype=np.bool)\n",
    "y = np.zeros((len(sentences), len(chars)), dtype=np.bool)\n",
    "for i, sentence in enumerate(sentences):\n",
    "    for t, char in enumerate(sentence):\n",
    "        x[i, t, char_indices[char]] = 1\n",
    "    y[i, char_indices[next_chars[i]]] = 1"
   ]
  },
  {
   "cell_type": "code",
   "execution_count": 3,
   "id": "abe50980",
   "metadata": {},
   "outputs": [
    {
     "name": "stderr",
     "output_type": "stream",
     "text": [
      "2022-12-11 09:46:36.563551: W tensorflow/compiler/xla/stream_executor/platform/default/dso_loader.cc:64] Could not load dynamic library 'libcuda.so.1'; dlerror: libcuda.so.1: cannot open shared object file: No such file or directory\n",
      "2022-12-11 09:46:36.563711: W tensorflow/compiler/xla/stream_executor/cuda/cuda_driver.cc:265] failed call to cuInit: UNKNOWN ERROR (303)\n",
      "2022-12-11 09:46:36.563732: I tensorflow/compiler/xla/stream_executor/cuda/cuda_diagnostics.cc:156] kernel driver does not appear to be running on this host (yarburart-ThinkPad-E15): /proc/driver/nvidia/version does not exist\n",
      "2022-12-11 09:46:36.564355: I tensorflow/core/platform/cpu_feature_guard.cc:193] This TensorFlow binary is optimized with oneAPI Deep Neural Network Library (oneDNN) to use the following CPU instructions in performance-critical operations:  AVX2 FMA\n",
      "To enable them in other operations, rebuild TensorFlow with the appropriate compiler flags.\n"
     ]
    }
   ],
   "source": [
    "model = keras.Sequential(\n",
    "    [\n",
    "        keras.Input(shape=(maxlen, len(chars))),\n",
    "        layers.LSTM(64),\n",
    "        layers.Dense(len(chars), activation=\"softmax\"),\n",
    "    ]\n",
    ")\n",
    "optimizer = keras.optimizers.RMSprop(learning_rate=0.01)\n",
    "model.compile(loss=\"categorical_crossentropy\", optimizer=optimizer)"
   ]
  },
  {
   "cell_type": "code",
   "execution_count": 4,
   "id": "84cae838",
   "metadata": {},
   "outputs": [],
   "source": [
    "def sample(preds, temperature=1.0):\n",
    "    # helper function to sample an index from a probability array\n",
    "    preds = np.asarray(preds).astype(\"float64\")\n",
    "    preds = np.log(preds) / temperature\n",
    "    exp_preds = np.exp(preds)\n",
    "    preds = exp_preds / np.sum(exp_preds)\n",
    "    probas = np.random.multinomial(1, preds, 1)\n",
    "    return np.argmax(probas)"
   ]
  },
  {
   "cell_type": "code",
   "execution_count": null,
   "id": "4a960e9b",
   "metadata": {},
   "outputs": [
    {
     "name": "stderr",
     "output_type": "stream",
     "text": [
      "2022-12-11 09:55:31.110159: W tensorflow/tsl/framework/cpu_allocator_impl.cc:82] Allocation of 448638400 exceeds 10% of free system memory.\n"
     ]
    },
    {
     "name": "stdout",
     "output_type": "stream",
     "text": [
      "1565/1565 [==============================] - 101s 63ms/step - loss: 1.9013\n",
      "\n",
      "Generating text after epoch: 0\n",
      "...Diversity: 0.2\n",
      "...Generating with seed: \" a school of distrust, still more of dis\"\n",
      "...Generated:  tine of the demore the in the something and the something and the himself and the so the something and the faction of the soul and the relaring and the soll of the soul and the something and the farst of the for the consiment of the saints and a soul and the solf--and the says and the soul and the for in the something and the faction of the into the enerary and the something and the something and \n",
      "\n",
      "...Diversity: 0.5\n",
      "...Generating with seed: \" a school of distrust, still more of dis\"\n",
      "...Generated:  trasice infleeration and the respiciamen for the sourther the for all the necessing and the himself a process of the so the happiness of the so this asmust and the intarken of soul religion and the liffedent as a soul and the ofting as the feeling for in every and and of the soul and it as a most and present of a religion of the sairs of the remigions of socration and precistion responsty as the h\n",
      "\n",
      "...Diversity: 1.0\n",
      "...Generating with seed: \" a school of distrust, still more of dis\"\n",
      "...Generated:  tice wele to meljesline the wholly they but the have be say longerm, and ity of ithellos of whether--at as the \"race on states itself a oacts, renay of cound, at one us opcies baunt as the othing--the himcormonent at under of roleng the tefthing him doen, the in all the indies. the realit).\" neimalises aspacing one into the despons acidution what, shease from at ereo,, cossixed and omer, and think\n",
      "\n",
      "...Diversity: 1.2\n",
      "...Generating with seed: \" a school of distrust, still more of dis\"\n",
      "...Generated:  foluted and justes, whithing as, yeno the one's most have houthorth of which intne ger the effaches has for the idevery which the burseperfule, butdinationsion for the fatter; lighting-fooly, a pavsion pidh of age morels pristurous as lience, lout, and pechinu of deas\". mouths with lie_t, ahe hadpterds among and the us feeling is our extriinfloumblevents who he imasublly and cain sc2ypet as itheet\n",
      "\n",
      "   2/1565 [..............................] - ETA: 1:41 - loss: 1.5744"
     ]
    },
    {
     "name": "stderr",
     "output_type": "stream",
     "text": [
      "2022-12-11 09:58:34.081168: W tensorflow/tsl/framework/cpu_allocator_impl.cc:82] Allocation of 448638400 exceeds 10% of free system memory.\n"
     ]
    },
    {
     "name": "stdout",
     "output_type": "stream",
     "text": [
      "1565/1565 [==============================] - 96s 61ms/step - loss: 1.5614\n",
      "\n",
      "Generating text after epoch: 1\n",
      "...Diversity: 0.2\n",
      "...Generating with seed: \" the general destiny of the world and, n\"\n",
      "...Generated:  ot it is the stronger of the sense of the soul of the stronger of the strong of the stronger of the sense of the stronger of the subtless of the stronger of the strong and the strange of the stronger of the stronger of the moral extent of the stronger of the stronger of the stronger of the specte of the strong of the sense of the subtiment of the strong of the subtless of the strong of the sense o\n",
      "\n",
      "...Diversity: 0.5\n",
      "...Generating with seed: \" the general destiny of the world and, n\"\n",
      "...Generated:  ot even in the terreed in a noulled as the same in the religious to the sense, which and become a passion of the suit, as manner of more that the soul in the more the sentiments of the self-good more in the strength of the standen subtle soul as to reason are power in this soul will is a simple to power and probable in probable and in the almost entimen of this fine of the a mankind to a most does\n",
      "\n",
      "...Diversity: 1.0\n",
      "...Generating with seed: \" the general destiny of the world and, n\"\n",
      "...Generated:  ow beyin wimen powers, souldness, it is one men and every sncilonce of this soul existevic will trausus uppo-man of freedince for a does long their spirits, and sufrice a ceuse, radicism in feeling.\" he longer to seteres of anuiqueance of refire one manifeption soul own asame hould clists other sole histones of timinution self gratude--are sout.              ,  t and deasory read also be un our hi\n",
      "\n",
      "...Diversity: 1.2\n",
      "...Generating with seed: \" the general destiny of the world and, n\"\n",
      "...Generated:  ot fact would pre limest-is high in the words) alwagive -person will owed have protection of oye, speak of peshuouuity, to bage must not tending is a livelpe,   ad.   d  ic cersent, have merals,       to lesn, whelless: withor oe mettry other--in ardistre, cultos very most my for all on mblum remoradis byought man ediving to be shortes to stho introopycued un act not not well to be resist =ecprear\n",
      "\n"
     ]
    },
    {
     "name": "stderr",
     "output_type": "stream",
     "text": [
      "2022-12-11 10:01:32.664703: W tensorflow/tsl/framework/cpu_allocator_impl.cc:82] Allocation of 448638400 exceeds 10% of free system memory.\n"
     ]
    },
    {
     "name": "stdout",
     "output_type": "stream",
     "text": [
      "1565/1565 [==============================] - 140s 89ms/step - loss: 1.4777\n",
      "\n",
      "Generating text after epoch: 2\n",
      "...Diversity: 0.2\n",
      "...Generating with seed: \"therto been treated by men like birds, w\"\n",
      "...Generated:  hich is an existence of the submic of the strength of the submic of the religion of the strength of the subjection of the strength of the strength of the strength of the strength of the sense of the strength of the existence of the strength of the submic of the strength of the most and the strength of the strength of the strength of the strength of the strength of the subjection of the most suffer\n",
      "\n",
      "...Diversity: 0.5\n",
      "...Generating with seed: \"therto been treated by men like birds, w\"\n",
      "...Generated:  hich is sald interprets and antimalality in the higher out of the consciences on their conceple the cansure of its his strange, when the result of the former on former conception only that the open and which says that the existence of the suffer the really in his the belief and beacting the strength of the result of the man and not only seems and greates of the present of the result of the not say\n",
      "\n",
      "...Diversity: 1.0\n",
      "...Generating with seed: \"therto been treated by men like birds, w\"\n",
      "...Generated:  hich manuable might. the utique, them but for sum e that than the caninightons of great victly of an exteement must be its stupidianity in the brouncediut, that, wordny, insilteredly on religion the histor addainly is was the present betwends, fulluse and its recompulicen, fow means and this the unsame had to his very we happe antisish bown screedles' these exarfising one2do,\"   th it wands. to th\n",
      "\n",
      "...Diversity: 1.2\n",
      "...Generating with seed: \"therto been treated by men like birds, w\"\n",
      "...Generated:  hinoum priternessvilarly anceffot and ; i far requbining porcal new, for humision, sendais or hi d fortests by gadd, and cer a hurmoas new sony--medoredd--in norrefueners (science, e sufer artyon bebingon or as thit inlive thas do not only not in itled his him anothing olosm was pospulsesied turise (arouncopaliinly, lifesly suffiche sru.=-k\"gristew that os concepust they funtity life, russs of bro\n",
      "\n"
     ]
    },
    {
     "name": "stderr",
     "output_type": "stream",
     "text": [
      "2022-12-11 10:05:15.471006: W tensorflow/tsl/framework/cpu_allocator_impl.cc:82] Allocation of 448638400 exceeds 10% of free system memory.\n"
     ]
    },
    {
     "name": "stdout",
     "output_type": "stream",
     "text": [
      "  79/1565 [>.............................] - ETA: 21:26 - loss: 1.3904"
     ]
    }
   ],
   "source": [
    "epochs = 10\n",
    "batch_size = 128\n",
    "\n",
    "for epoch in range(epochs):\n",
    "    model.fit(x, y, batch_size=batch_size, epochs=1)\n",
    "    print()\n",
    "    print(\"Generating text after epoch: %d\" % epoch)\n",
    "\n",
    "    start_index = random.randint(0, len(text) - maxlen - 1)\n",
    "    for diversity in [0.2, 0.5, 1.0, 1.2]:\n",
    "        print(\"...Diversity:\", diversity)\n",
    "\n",
    "        generated = \"\"\n",
    "        sentence = text[start_index : start_index + maxlen]\n",
    "        print('...Generating with seed: \"' + sentence + '\"')\n",
    "\n",
    "        for i in range(400):\n",
    "            x_pred = np.zeros((1, maxlen, len(chars)))\n",
    "            for t, char in enumerate(sentence):\n",
    "                x_pred[0, t, char_indices[char]] = 1.0\n",
    "            preds = model.predict(x_pred, verbose=0)[0]\n",
    "            next_index = sample(preds, diversity)\n",
    "            next_char = indices_char[next_index]\n",
    "            sentence = sentence[1:] + next_char\n",
    "            generated += next_char\n",
    "\n",
    "        print(\"...Generated: \", generated)\n",
    "        print()"
   ]
  },
  {
   "cell_type": "markdown",
   "id": "baf7de0a",
   "metadata": {},
   "source": []
  }
 ],
 "metadata": {
  "kernelspec": {
   "display_name": "Python 3 (ipykernel)",
   "language": "python",
   "name": "python3"
  },
  "language_info": {
   "codemirror_mode": {
    "name": "ipython",
    "version": 3
   },
   "file_extension": ".py",
   "mimetype": "text/x-python",
   "name": "python",
   "nbconvert_exporter": "python",
   "pygments_lexer": "ipython3",
   "version": "3.10.6"
  }
 },
 "nbformat": 4,
 "nbformat_minor": 5
}
