{
 "cells": [
  {
   "cell_type": "code",
   "execution_count": 39,
   "id": "30cf745c",
   "metadata": {},
   "outputs": [],
   "source": [
    "import numpy as np\n",
    "from numpy.random import randn"
   ]
  },
  {
   "cell_type": "code",
   "execution_count": 15,
   "id": "57920e75",
   "metadata": {},
   "outputs": [],
   "source": [
    "input_dim = 4\n",
    "out_dim = 3\n",
    "h_dim = 10"
   ]
  },
  {
   "cell_type": "code",
   "execution_count": 40,
   "id": "c0c28029",
   "metadata": {},
   "outputs": [],
   "source": [
    "x = randn(input_dim)"
   ]
  },
  {
   "cell_type": "code",
   "execution_count": 41,
   "id": "a6f5dae6",
   "metadata": {},
   "outputs": [],
   "source": [
    "w1 = randn(input_dim, h_dim)\n",
    "b1 = randn(h_dim)"
   ]
  },
  {
   "cell_type": "code",
   "execution_count": 42,
   "id": "5b9c9370",
   "metadata": {},
   "outputs": [],
   "source": [
    "w2 = randn(h_dim, out_dim)\n",
    "b2 = randn(out_dim)"
   ]
  },
  {
   "cell_type": "code",
   "execution_count": 19,
   "id": "32c5fe1f",
   "metadata": {},
   "outputs": [],
   "source": [
    "def relu(t):\n",
    "    return np.maximum(t, 0)"
   ]
  },
  {
   "cell_type": "code",
   "execution_count": 20,
   "id": "6ffed725",
   "metadata": {},
   "outputs": [],
   "source": [
    "def softmax(t):\n",
    "    out = np.exp(t)\n",
    "    return out / np.sum(out)"
   ]
  },
  {
   "cell_type": "code",
   "execution_count": 44,
   "id": "58be6371",
   "metadata": {},
   "outputs": [],
   "source": [
    "def predict(x):\n",
    "    t1 = x @ w1 + b1 # @ == * == np.dot\n",
    "    h1 = relu(t1)\n",
    "    t2 = h1 @ w2 + b2\n",
    "    return softmax(t2)"
   ]
  },
  {
   "cell_type": "code",
   "execution_count": 48,
   "id": "81f45a86",
   "metadata": {},
   "outputs": [
    {
     "name": "stdout",
     "output_type": "stream",
     "text": [
      "Predicted class: versicolor\n"
     ]
    }
   ],
   "source": [
    "probs = predict(x)\n",
    "pred_class = np.argmax(probs)\n",
    "class_names = ['setosa', 'versicolor', 'virginica']\n",
    "print('Predicted class:', class_names[pred_class])"
   ]
  }
 ],
 "metadata": {
  "kernelspec": {
   "display_name": "Python 3 (ipykernel)",
   "language": "python",
   "name": "python3"
  },
  "language_info": {
   "codemirror_mode": {
    "name": "ipython",
    "version": 3
   },
   "file_extension": ".py",
   "mimetype": "text/x-python",
   "name": "python",
   "nbconvert_exporter": "python",
   "pygments_lexer": "ipython3",
   "version": "3.10.6"
  }
 },
 "nbformat": 4,
 "nbformat_minor": 5
}
