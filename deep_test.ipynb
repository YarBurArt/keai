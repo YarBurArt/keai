{
 "cells": [
  {
   "cell_type": "markdown",
   "id": "e563ddff",
   "metadata": {},
   "source": [
    "# Трёхслойная нейросеть без обучения"
   ]
  },
  {
   "cell_type": "code",
   "execution_count": 1,
   "id": "5fa99dae",
   "metadata": {},
   "outputs": [],
   "source": [
    "import numpy as np # расшиение математических возможностей"
   ]
  },
  {
   "cell_type": "code",
   "execution_count": 7,
   "id": "5805bc21",
   "metadata": {},
   "outputs": [],
   "source": [
    "ih_wqt = np.array([ # веса первого слоя\n",
    "[0.1, 0.2, -0.1], # hid[0]\n",
    "[-0.1,0.1, 0.9], # hid[l]\n",
    "[0.1, 0.4, 0.1]]).T # hid[2]"
   ]
  },
  {
   "cell_type": "code",
   "execution_count": 9,
   "id": "0cd235ec",
   "metadata": {},
   "outputs": [],
   "source": [
    "hp_wqt = np.array([ # веса второго слоя\n",
    "\t[0.3, 1.1, -0.3], # травмы?\n",
    "\t[0.1, 0.2, 0.0], # победа?\n",
    "\t[0.0, 1.3, 0.1] ]).T # печаль?"
   ]
  },
  {
   "cell_type": "code",
   "execution_count": 10,
   "id": "b1a1a552",
   "metadata": {},
   "outputs": [],
   "source": [
    "weights = [ih_wqt, hp_wqt] # готовые веса "
   ]
  },
  {
   "cell_type": "code",
   "execution_count": 14,
   "id": "19207e91",
   "metadata": {},
   "outputs": [],
   "source": [
    "def neural_network(input, weights):\n",
    "\thid = input.dot(weights[0]) # скалярное умножение входа на веса\n",
    "\tpred = hid.dot(weights[1])\n",
    "\treturn pred  # предсказание в виде вероятности"
   ]
  },
  {
   "cell_type": "code",
   "execution_count": 12,
   "id": "1cc9650c",
   "metadata": {},
   "outputs": [],
   "source": [
    "# мини датасет\n",
    "toes = np.array([8.5, 9.5, 9.9, 9.0]) # кол-во травм\n",
    "wlrec = np.array([0.65,0.8, 0.8, 0.9]) # кол-во побед\n",
    "nfans = np.array([1.2, 1.3, 0.5, 1.0]) # кол-во печаль"
   ]
  },
  {
   "cell_type": "code",
   "execution_count": 15,
   "id": "d2a6bed8",
   "metadata": {},
   "outputs": [
    {
     "name": "stdout",
     "output_type": "stream",
     "text": [
      "[0.2135 0.145  0.5065]\n"
     ]
    }
   ],
   "source": [
    "input = np.array([toes[0],wlrec[0],nfans[0]]) # входной 2д слой \n",
    "pred = neural_network(input, weights) # формирование предсказания\n",
    "print(pred) "
   ]
  },
  {
   "cell_type": "code",
   "execution_count": 19,
   "id": "02b6fab3",
   "metadata": {},
   "outputs": [
    {
     "name": "stdout",
     "output_type": "stream",
     "text": [
      "green\n"
     ]
    }
   ],
   "source": [
    "commands = [\"red\", \"blue\", \"green\"]\n",
    "for i in range(len(pred)): # перевод на человеческий язык\n",
    "    if pred[i] > .5: print(commands[i]) "
   ]
  }
 ],
 "metadata": {
  "kernelspec": {
   "display_name": "Python 3 (ipykernel)",
   "language": "python",
   "name": "python3"
  },
  "language_info": {
   "codemirror_mode": {
    "name": "ipython",
    "version": 3
   },
   "file_extension": ".py",
   "mimetype": "text/x-python",
   "name": "python",
   "nbconvert_exporter": "python",
   "pygments_lexer": "ipython3",
   "version": "3.10.6"
  }
 },
 "nbformat": 4,
 "nbformat_minor": 5
}
