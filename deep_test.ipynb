{
 "cells": [
  {
   "cell_type": "markdown",
   "metadata": {},
   "source": [
    "# Трёхслойная нейросеть без обучения"
   ]
  },
  {
   "cell_type": "code",
   "execution_count": 1,
   "metadata": {},
   "outputs": [],
   "source": [
    "import numpy as np # расшиение математических возможностей"
   ]
  },
  {
   "cell_type": "code",
   "execution_count": 20,
   "metadata": {},
   "outputs": [],
   "source": [
    "ih_wqt = np.array([ # веса первого слоя\n",
    "[.1, .2,-.1], # hid[0]\n",
    "[-.1,.1, .9], # hid[l]\n",
    "[.1, .4, .1]]).T # hid[2]"
   ]
  },
  {
   "cell_type": "code",
   "execution_count": 21,
   "metadata": {},
   "outputs": [],
   "source": [
    "hp_wqt = np.array([ # веса второго слоя\n",
    "\t[.3, 1.1, -.3], # травмы?\n",
    "\t[.1, .2, .0], # победа?\n",
    "\t[.0, 1.3, .1] ]).T # печаль?"
   ]
  },
  {
   "cell_type": "code",
   "execution_count": 10,
   "metadata": {},
   "outputs": [],
   "source": [
    "weights = [ih_wqt, hp_wqt] # готовые веса "
   ]
  },
  {
   "cell_type": "code",
   "execution_count": 14,
   "metadata": {},
   "outputs": [],
   "source": [
    "def neural_network(input, weights):\n",
    "\thid = input.dot(weights[0]) # скалярное умножение входа на веса\n",
    "\tpred = hid.dot(weights[1])\n",
    "\treturn pred  # предсказание в виде вероятности"
   ]
  },
  {
   "cell_type": "code",
   "execution_count": 12,
   "metadata": {},
   "outputs": [],
   "source": [
    "# мини датасет\n",
    "toes = np.array([8.5, 9.5, 9.9, 9.0]) # кол-во травм\n",
    "wlrec = np.array([.65, .8,  .8,  .9]) # кол-во побед\n",
    "nfans = np.array([1.2, 1.3, .5, 1.0]) # кол-во печаль"
   ]
  },
  {
   "cell_type": "code",
   "execution_count": 15,
   "metadata": {},
   "outputs": [
    {
     "name": "stdout",
     "output_type": "stream",
     "text": [
      "[0.2135 0.145  0.5065]\n"
     ]
    }
   ],
   "source": [
    "input = np.array([toes[0],wlrec[0],nfans[0]]) # входной 2д слой \n",
    "pred = neural_network(input, weights) # формирование предсказания\n",
    "print(pred) "
   ]
  },
  {
   "cell_type": "code",
   "execution_count": 19,
   "metadata": {},
   "outputs": [
    {
     "name": "stdout",
     "output_type": "stream",
     "text": [
      "green\n"
     ]
    }
   ],
   "source": [
    "commands = [\"red\", \"blue\", \"green\"]\n",
    "for i in range(len(pred)): # перевод на человеческий язык\n",
    "    if pred[i] > .5: print(commands[i]) "
   ]
  },
  {
   "cell_type": "markdown",
   "metadata": {},
   "source": [
    "# Градиентный спуск"
   ]
  },
  {
   "cell_type": "code",
   "execution_count": 6,
   "metadata": {},
   "outputs": [],
   "source": [
    "weight = .5 # веса\n",
    "goal_pred = .9 # целевая вероятность \n",
    "input = .5 # входной слой"
   ]
  },
  {
   "cell_type": "code",
   "execution_count": 8,
   "metadata": {},
   "outputs": [
    {
     "name": "stdout",
     "output_type": "stream",
     "text": [
      "Era:1 Error:4.248907230791934e-06 Prediction:0.8979387122396929\n",
      "Era:2 Error:2.3900103173205486e-06 Prediction:0.8984540341797697\n",
      "Era:3 Error:1.3443808034926798e-06 Prediction:0.8988405256348273\n",
      "Era:4 Error:7.562142019645842e-07 Prediction:0.8991303942261205\n",
      "Era:5 Error:4.25370488605151e-07 Prediction:0.8993477956695903\n",
      "Era:6 Error:2.392708998404246e-07 Prediction:0.8995108467521927\n",
      "Era:7 Error:1.3458988116023884e-07 Prediction:0.8996331350641446\n",
      "Era:8 Error:7.570680815263434e-08 Prediction:0.8997248512981084\n",
      "Era:9 Error:4.2585079585868274e-08 Prediction:0.8997936384735813\n",
      "Era:10 Error:2.3954107267068087e-08 Prediction:0.8998452288551859\n",
      "Era:11 Error:1.3474185337732242e-08 Prediction:0.8998839216413894\n",
      "Era:12 Error:7.57922925247922e-09 Prediction:0.899912941231042\n",
      "Era:13 Error:4.2633164545231855e-09 Prediction:0.8999347059232815\n",
      "Era:14 Error:2.3981155056747285e-09 Prediction:0.8999510294424611\n",
      "Era:15 Error:1.3489399719440735e-09 Prediction:0.8999632720818458\n",
      "Era:16 Error:7.587787342170123e-10 Prediction:0.8999724540613844\n",
      "Era:17 Error:4.2681303799477574e-10 Prediction:0.8999793405460383\n",
      "Era:18 Error:2.4008233387120123e-10 Prediction:0.8999845054095288\n",
      "Era:19 Error:1.350463128031958e-10 Prediction:0.8999883790571466\n",
      "Era:20 Error:7.596355095228145e-11 Prediction:0.8999912842928599\n"
     ]
    }
   ],
   "source": [
    "for i in range(20): # оно учится \n",
    "    pred = input * weight # предсказание\n",
    "    \n",
    "    # большая ошибка станет ещё больше, мелкие не важны\n",
    "    error = (pred - goal_pred) ** 2 # куда промахнулись, перевод в положительное число\n",
    "    \n",
    "    # * это маштабирование чистой ошибки для смещения весов\n",
    "    # pred - goal_pred это чистая ошибка без перевода в положительное число\n",
    "    direction_amount = (pred - goal_pred) * input # обращение знака и остановка\n",
    "    # остановка случиться если дать 0 на вход\n",
    "    # обращение знака показывает направление смещения весов\n",
    "    \n",
    "    weight = weight - direction_amount # корректировка весов\n",
    "    \n",
    "    print(f\"Era:{i+1} Error:{error} Prediction:{pred}\") # результат эпохи"
   ]
  },
  {
   "cell_type": "code",
   "execution_count": 3,
   "metadata": {},
   "outputs": [
    {
     "name": "stdout",
     "output_type": "stream",
     "text": [
      "--------- \n",
      "Weight:0.3\n",
      "Error:0.7056000000000001 Prediction:0.06\n",
      "Delta:-0.8400000000000001 Weight Delta:-0.16800000000000004\n",
      "--------- \n",
      "Weight:0.31679999999999997\n",
      "Error:0.6999664896000001 Prediction:0.06336\n",
      "Delta:-0.83664 Weight Delta:-0.16732800000000003\n",
      "--------- \n",
      "Weight:0.33353279999999996\n",
      "Error:0.6943779571470337 Prediction:0.06670656\n",
      "Delta:-0.83329344 Weight Delta:-0.16665868800000003\n",
      "--------- \n",
      "Weight:0.35019866879999995\n",
      "Error:0.6888340435371718 Prediction:0.07003973375999999\n",
      "Delta:-0.8299602662400001 Weight Delta:-0.16599205324800004\n"
     ]
    }
   ],
   "source": [
    "weight, goal_pred, input, alpha = .3, .9, .2, .1\n",
    "\n",
    "for i in range(4): # катаем мячик по пораболе пока не остановиться в вершине \n",
    "    print(\"--------- \\nWeight:\" + str(weight))\n",
    "    pred = input * weight # предсказание \n",
    "\n",
    "    error = (pred - goal_pred) ** 2 # куда промахнулись\n",
    "\n",
    "    # разкрытый direction amount \n",
    "    delta = pred - goal_pred # разность с ожидаемым, чистая ошибка\n",
    "    \n",
    "    # производная как связь в виде касательной для изменения под закономерности в данных,\n",
    "    # показывает скорость изменения ошибки\n",
    "    weight_delta = delta * input # маштабирование\n",
    "    weight = weight - (alpha * weight_delta) # новые веса\n",
    "    # альфа 0.1 смягчает изменение веса и раскатывание мячика \n",
    "    # результат \n",
    "    print(f\"Error:{error} Prediction:{pred}\")\n",
    "    print(f\"Delta:{delta} Weight Delta:{weight_delta}\")"
   ]
  }
 ],
 "metadata": {
  "kernelspec": {
   "display_name": "Python 3 (ipykernel)",
   "language": "python",
   "name": "python3"
  },
  "language_info": {
   "codemirror_mode": {
    "name": "ipython",
    "version": 3
   },
   "file_extension": ".py",
   "mimetype": "text/x-python",
   "name": "python",
   "nbconvert_exporter": "python",
   "pygments_lexer": "ipython3",
   "version": "3.7.6"
  }
 },
 "nbformat": 4,
 "nbformat_minor": 5
}
