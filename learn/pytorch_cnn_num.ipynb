{
 "cells": [
  {
   "cell_type": "markdown",
   "id": "0e4e5219",
   "metadata": {},
   "source": [
    "# Импорт библиотек"
   ]
  },
  {
   "cell_type": "code",
   "execution_count": 2,
   "id": "f1545818",
   "metadata": {},
   "outputs": [],
   "source": [
    "import torch #as keras or tensorflow\n",
    "import torch.nn as nn\n",
    "from torch.utils.data import DataLoader\n",
    "import torchvision.transforms as transforms #reform data for cnn\n",
    "import torchvision.datasets\n",
    "from bokeh.plotting import figure #as matplotlib to html graphic\n",
    "from bokeh.io import show\n",
    "from bokeh.models import LinearAxis, Range1d\n",
    "import numpy as np #for math and nD_arrays"
   ]
  },
  {
   "cell_type": "markdown",
   "id": "bfd343c4",
   "metadata": {},
   "source": [
    "# Определение гиперпараметров"
   ]
  },
  {
   "cell_type": "code",
   "execution_count": 3,
   "id": "8cdd3a9d",
   "metadata": {},
   "outputs": [],
   "source": [
    "num_epochs = 6 \n",
    "num_classes = 10 #out layer\n",
    "batch_size = 100 \n",
    "learning_rate = 0.001 \n",
    "\n",
    "DATA_PATH = 'data'\n",
    "MODEL_STORE_PATH = 'models'"
   ]
  },
  {
   "cell_type": "markdown",
   "id": "167936af",
   "metadata": {},
   "source": [
    "# Преобразование данных"
   ]
  },
  {
   "cell_type": "code",
   "execution_count": 4,
   "id": "c392a099",
   "metadata": {},
   "outputs": [],
   "source": [
    "trans = transforms.Compose([transforms.ToTensor(), transforms.Normalize((0.1307,), (0.3081,))])"
   ]
  },
  {
   "cell_type": "markdown",
   "id": "985320fc",
   "metadata": {},
   "source": [
    "# Загрузка датасета"
   ]
  },
  {
   "cell_type": "code",
   "execution_count": 5,
   "id": "bc5af541",
   "metadata": {
    "scrolled": true
   },
   "outputs": [
    {
     "name": "stdout",
     "output_type": "stream",
     "text": [
      "Downloading http://yann.lecun.com/exdb/mnist/train-images-idx3-ubyte.gz\n",
      "Downloading http://yann.lecun.com/exdb/mnist/train-images-idx3-ubyte.gz to data/MNIST/raw/train-images-idx3-ubyte.gz\n"
     ]
    },
    {
     "data": {
      "application/vnd.jupyter.widget-view+json": {
       "model_id": "15062118e6d94a7ba6c0aa84efca48b1",
       "version_major": 2,
       "version_minor": 0
      },
      "text/plain": [
       "  0%|          | 0/9912422 [00:00<?, ?it/s]"
      ]
     },
     "metadata": {},
     "output_type": "display_data"
    },
    {
     "name": "stdout",
     "output_type": "stream",
     "text": [
      "Extracting data/MNIST/raw/train-images-idx3-ubyte.gz to data/MNIST/raw\n",
      "\n",
      "Downloading http://yann.lecun.com/exdb/mnist/train-labels-idx1-ubyte.gz\n",
      "Downloading http://yann.lecun.com/exdb/mnist/train-labels-idx1-ubyte.gz to data/MNIST/raw/train-labels-idx1-ubyte.gz\n"
     ]
    },
    {
     "data": {
      "application/vnd.jupyter.widget-view+json": {
       "model_id": "72b0d21777964748a2fbe043bb18eb55",
       "version_major": 2,
       "version_minor": 0
      },
      "text/plain": [
       "  0%|          | 0/28881 [00:00<?, ?it/s]"
      ]
     },
     "metadata": {},
     "output_type": "display_data"
    },
    {
     "name": "stdout",
     "output_type": "stream",
     "text": [
      "Extracting data/MNIST/raw/train-labels-idx1-ubyte.gz to data/MNIST/raw\n",
      "\n",
      "Downloading http://yann.lecun.com/exdb/mnist/t10k-images-idx3-ubyte.gz\n",
      "Downloading http://yann.lecun.com/exdb/mnist/t10k-images-idx3-ubyte.gz to data/MNIST/raw/t10k-images-idx3-ubyte.gz\n"
     ]
    },
    {
     "data": {
      "application/vnd.jupyter.widget-view+json": {
       "model_id": "2d4c37738ede4cedbcd8770eeaa05a40",
       "version_major": 2,
       "version_minor": 0
      },
      "text/plain": [
       "  0%|          | 0/1648877 [00:00<?, ?it/s]"
      ]
     },
     "metadata": {},
     "output_type": "display_data"
    },
    {
     "name": "stdout",
     "output_type": "stream",
     "text": [
      "Extracting data/MNIST/raw/t10k-images-idx3-ubyte.gz to data/MNIST/raw\n",
      "\n",
      "Downloading http://yann.lecun.com/exdb/mnist/t10k-labels-idx1-ubyte.gz\n",
      "Downloading http://yann.lecun.com/exdb/mnist/t10k-labels-idx1-ubyte.gz to data/MNIST/raw/t10k-labels-idx1-ubyte.gz\n"
     ]
    },
    {
     "data": {
      "application/vnd.jupyter.widget-view+json": {
       "model_id": "15154b835e8f43f584c2fd0c6a483ed3",
       "version_major": 2,
       "version_minor": 0
      },
      "text/plain": [
       "  0%|          | 0/4542 [00:00<?, ?it/s]"
      ]
     },
     "metadata": {},
     "output_type": "display_data"
    },
    {
     "name": "stdout",
     "output_type": "stream",
     "text": [
      "Extracting data/MNIST/raw/t10k-labels-idx1-ubyte.gz to data/MNIST/raw\n",
      "\n"
     ]
    }
   ],
   "source": [
    "train_dataset = torchvision.datasets.MNIST(root=DATA_PATH, train=True, transform=trans, download=True)\n",
    "test_dataset = torchvision.datasets.MNIST(root=DATA_PATH, train=False, transform=trans)"
   ]
  },
  {
   "cell_type": "markdown",
   "id": "70931772",
   "metadata": {},
   "source": [
    "# Импорт датасета"
   ]
  },
  {
   "cell_type": "code",
   "execution_count": 6,
   "id": "3af0dfcc",
   "metadata": {},
   "outputs": [],
   "source": [
    "train_loader = DataLoader(dataset=train_dataset, batch_size=batch_size, shuffle=True)\n",
    "test_loader = DataLoader(dataset=test_dataset, batch_size=batch_size, shuffle=False)"
   ]
  },
  {
   "cell_type": "markdown",
   "id": "ad7cb553",
   "metadata": {},
   "source": [
    "# Двуслойная свёрточная нейронная сеть"
   ]
  },
  {
   "cell_type": "code",
   "execution_count": 8,
   "id": "625eb46c",
   "metadata": {},
   "outputs": [],
   "source": [
    "class ConvNet(nn.Module):\n",
    "    def __init__(self):\n",
    "        super(ConvNet, self).__init__()\n",
    "        self.layer1 = nn.Sequential(\n",
    "            nn.Conv2d(1, 32, kernel_size=5, stride=1, padding=2),\n",
    "            nn.ReLU(),\n",
    "            nn.MaxPool2d(kernel_size=2, stride=2))\n",
    "        self.layer2 = nn.Sequential(\n",
    "            nn.Conv2d(32, 64, kernel_size=5, stride=1, padding=2),\n",
    "            nn.ReLU(),\n",
    "            nn.MaxPool2d(kernel_size=2, stride=2))\n",
    "        self.drop_out = nn.Dropout()\n",
    "        self.fc1 = nn.Linear(7 * 7 * 64, 1000)\n",
    "        self.fc2 = nn.Linear(1000, 10)\n",
    "\n",
    "    def forward(self, x): \n",
    "        out = self.layer1(x)\n",
    "        out = self.layer2(out)\n",
    "        out = out.reshape(out.size(0), -1)\n",
    "        out = self.drop_out(out)\n",
    "        out = self.fc1(out)\n",
    "        out = self.fc2(out)\n",
    "        return out\n",
    "    \n",
    "model = ConvNet()"
   ]
  },
  {
   "cell_type": "markdown",
   "id": "ff7fb4d3",
   "metadata": {},
   "source": [
    "# Функция ошибки и оптимизатор"
   ]
  },
  {
   "cell_type": "code",
   "execution_count": 9,
   "id": "1fde9fa0",
   "metadata": {},
   "outputs": [],
   "source": [
    "criterion = nn.CrossEntropyLoss()\n",
    "optimizer = torch.optim.Adam(model.parameters(), lr=learning_rate)"
   ]
  },
  {
   "cell_type": "markdown",
   "id": "5057731a",
   "metadata": {},
   "source": [
    "# Тренеровка нейросети"
   ]
  },
  {
   "cell_type": "code",
   "execution_count": 10,
   "id": "67a84755",
   "metadata": {},
   "outputs": [
    {
     "name": "stdout",
     "output_type": "stream",
     "text": [
      "Epoch [1/6], Step [100/600], Loss: 0.2605, Accuracy: 90.00%\n",
      "Epoch [1/6], Step [200/600], Loss: 0.2433, Accuracy: 93.00%\n",
      "Epoch [1/6], Step [300/600], Loss: 0.1482, Accuracy: 96.00%\n",
      "Epoch [1/6], Step [400/600], Loss: 0.1729, Accuracy: 95.00%\n",
      "Epoch [1/6], Step [500/600], Loss: 0.0609, Accuracy: 98.00%\n",
      "Epoch [1/6], Step [600/600], Loss: 0.2238, Accuracy: 95.00%\n",
      "Epoch [2/6], Step [100/600], Loss: 0.2078, Accuracy: 92.00%\n",
      "Epoch [2/6], Step [200/600], Loss: 0.0304, Accuracy: 100.00%\n",
      "Epoch [2/6], Step [300/600], Loss: 0.0879, Accuracy: 97.00%\n",
      "Epoch [2/6], Step [400/600], Loss: 0.0637, Accuracy: 98.00%\n",
      "Epoch [2/6], Step [500/600], Loss: 0.0616, Accuracy: 97.00%\n",
      "Epoch [2/6], Step [600/600], Loss: 0.0834, Accuracy: 97.00%\n",
      "Epoch [3/6], Step [100/600], Loss: 0.1158, Accuracy: 97.00%\n",
      "Epoch [3/6], Step [200/600], Loss: 0.0558, Accuracy: 98.00%\n",
      "Epoch [3/6], Step [300/600], Loss: 0.0860, Accuracy: 97.00%\n",
      "Epoch [3/6], Step [400/600], Loss: 0.1749, Accuracy: 96.00%\n",
      "Epoch [3/6], Step [500/600], Loss: 0.0890, Accuracy: 96.00%\n",
      "Epoch [3/6], Step [600/600], Loss: 0.0747, Accuracy: 97.00%\n",
      "Epoch [4/6], Step [100/600], Loss: 0.0729, Accuracy: 98.00%\n",
      "Epoch [4/6], Step [200/600], Loss: 0.0712, Accuracy: 97.00%\n",
      "Epoch [4/6], Step [300/600], Loss: 0.0443, Accuracy: 97.00%\n",
      "Epoch [4/6], Step [400/600], Loss: 0.0875, Accuracy: 96.00%\n",
      "Epoch [4/6], Step [500/600], Loss: 0.0302, Accuracy: 99.00%\n",
      "Epoch [4/6], Step [600/600], Loss: 0.0137, Accuracy: 100.00%\n",
      "Epoch [5/6], Step [100/600], Loss: 0.0215, Accuracy: 99.00%\n",
      "Epoch [5/6], Step [200/600], Loss: 0.0713, Accuracy: 96.00%\n",
      "Epoch [5/6], Step [300/600], Loss: 0.1139, Accuracy: 97.00%\n",
      "Epoch [5/6], Step [400/600], Loss: 0.0094, Accuracy: 100.00%\n",
      "Epoch [5/6], Step [500/600], Loss: 0.0431, Accuracy: 99.00%\n",
      "Epoch [5/6], Step [600/600], Loss: 0.0976, Accuracy: 97.00%\n",
      "Epoch [6/6], Step [100/600], Loss: 0.0163, Accuracy: 100.00%\n",
      "Epoch [6/6], Step [200/600], Loss: 0.0792, Accuracy: 97.00%\n",
      "Epoch [6/6], Step [300/600], Loss: 0.0314, Accuracy: 99.00%\n",
      "Epoch [6/6], Step [400/600], Loss: 0.0398, Accuracy: 98.00%\n",
      "Epoch [6/6], Step [500/600], Loss: 0.0060, Accuracy: 100.00%\n",
      "Epoch [6/6], Step [600/600], Loss: 0.0596, Accuracy: 98.00%\n"
     ]
    }
   ],
   "source": [
    "total_step = len(train_loader)\n",
    "loss_list = []\n",
    "acc_list = []\n",
    "for epoch in range(num_epochs):\n",
    "    for i, (images, labels) in enumerate(train_loader):\n",
    "        # Run the forward pass\n",
    "        outputs = model(images)\n",
    "        loss = criterion(outputs, labels)\n",
    "        loss_list.append(loss.item())\n",
    "\n",
    "        # Backprop and perform Adam optimisation\n",
    "        optimizer.zero_grad()\n",
    "        loss.backward()\n",
    "        optimizer.step()\n",
    "\n",
    "        # Track the accuracy\n",
    "        total = labels.size(0)\n",
    "        _, predicted = torch.max(outputs.data, 1)\n",
    "        correct = (predicted == labels).sum().item()\n",
    "        acc_list.append(correct / total)\n",
    "\n",
    "        if (i + 1) % 100 == 0:\n",
    "            print('Epoch [{}/{}], Step [{}/{}], Loss: {:.4f}, Accuracy: {:.2f}%'\n",
    "                  .format(epoch + 1, num_epochs, i + 1, total_step, loss.item(),\n",
    "                          (correct / total) * 100))"
   ]
  },
  {
   "cell_type": "markdown",
   "id": "207d6b4e",
   "metadata": {},
   "source": [
    "# Тест на новых данных"
   ]
  },
  {
   "cell_type": "code",
   "execution_count": 11,
   "id": "e700040d",
   "metadata": {},
   "outputs": [
    {
     "name": "stdout",
     "output_type": "stream",
     "text": [
      "Test Accuracy of the model on the 10000 test images: 99.08 %\n"
     ]
    }
   ],
   "source": [
    "model.eval()\n",
    "with torch.no_grad():\n",
    "    correct = 0\n",
    "    total = 0\n",
    "    for images, labels in test_loader:\n",
    "        outputs = model(images)\n",
    "        _, predicted = torch.max(outputs.data, 1)\n",
    "        total += labels.size(0)\n",
    "        correct += (predicted == labels).sum().item()\n",
    "\n",
    "    print('Test Accuracy of the model on the 10000 test images: {} %'.format((correct / total) * 100))"
   ]
  },
  {
   "cell_type": "markdown",
   "id": "4a8acdfa",
   "metadata": {},
   "source": [
    "# Сохранение модели и весов"
   ]
  },
  {
   "cell_type": "code",
   "execution_count": 12,
   "id": "a49c7b15",
   "metadata": {},
   "outputs": [],
   "source": [
    "torch.save(model.state_dict(), MODEL_STORE_PATH + 'conv_net_model.ckpt')"
   ]
  },
  {
   "cell_type": "markdown",
   "id": "676161a2",
   "metadata": {},
   "source": [
    "# Построение графика точности "
   ]
  },
  {
   "cell_type": "code",
   "execution_count": 13,
   "id": "ab0a3416",
   "metadata": {},
   "outputs": [
    {
     "name": "stderr",
     "output_type": "stream",
     "text": [
      "Found ffmpeg: /opt/yandex/browser/libffmpeg.so\n",
      "\tavcodec: 3876708\n",
      "\tavformat: 3874148\n",
      "\tavutil: 3743332\n",
      "Ffmpeg version is OK! Let's use it.\n",
      "[9505:9505:1230/134358.651720:ERROR:brand_package_util.cc(112)] Failed to verify partner_config signature, config will be ignored\n",
      "[9505:9505:1230/134358.681558:ERROR:variations_seed_processor.cc(253)] Trial from abt study=Spaces already created\n",
      "[9505:9505:1230/134358.883224:ERROR:isolated_origin_util.cc(74)] Ignoring port number in isolated origin: chrome://custo\n",
      "[9505:9505:1230/134358.883260:ERROR:child_process_security_policy_impl.cc(2010)] Invalid isolated origin: \n",
      "libva error: vaGetDriverNameByIndex() failed with unknown libva error, driver_name = (null)\n"
     ]
    },
    {
     "name": "stdout",
     "output_type": "stream",
     "text": [
      "Окно или вкладка откроются в текущем сеансе браузера.\n"
     ]
    }
   ],
   "source": [
    "p = figure(y_axis_label='Loss', width=850, y_range=(0, 1), title='PyTorch ConvNet results')\n",
    "p.extra_y_ranges = {'Accuracy': Range1d(start=0, end=100)}\n",
    "p.add_layout(LinearAxis(y_range_name='Accuracy', axis_label='Accuracy (%)'), 'right')\n",
    "p.line(np.arange(len(loss_list)), loss_list)\n",
    "p.line(np.arange(len(loss_list)), np.array(acc_list) * 100, y_range_name='Accuracy', color='red')\n",
    "show(p)"
   ]
  }
 ],
 "metadata": {
  "kernelspec": {
   "display_name": "Python 3 (ipykernel)",
   "language": "python",
   "name": "python3"
  },
  "language_info": {
   "codemirror_mode": {
    "name": "ipython",
    "version": 3
   },
   "file_extension": ".py",
   "mimetype": "text/x-python",
   "name": "python",
   "nbconvert_exporter": "python",
   "pygments_lexer": "ipython3",
   "version": "3.10.6"
  }
 },
 "nbformat": 4,
 "nbformat_minor": 5
}
