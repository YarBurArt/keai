{
 "cells": [
  {
   "cell_type": "markdown",
   "id": "5033164a",
   "metadata": {},
   "source": [
    "# импорт библиотеки вычислений"
   ]
  },
  {
   "cell_type": "code",
   "execution_count": 39,
   "id": "30cf745c",
   "metadata": {},
   "outputs": [],
   "source": [
    "import numpy as np\n",
    "from numpy.random import randn"
   ]
  },
  {
   "cell_type": "markdown",
   "id": "41b56f5f",
   "metadata": {},
   "source": [
    "# гиперпараметры нейронки"
   ]
  },
  {
   "cell_type": "code",
   "execution_count": 15,
   "id": "d9a06159",
   "metadata": {},
   "outputs": [],
   "source": [
    "input_dim = 4\n",
    "out_dim = 3\n",
    "h_dim = 10"
   ]
  },
  {
   "cell_type": "markdown",
   "id": "97c4bed1",
   "metadata": {},
   "source": [
    "# входные данные"
   ]
  },
  {
   "cell_type": "code",
   "execution_count": 40,
   "id": "c52e74de",
   "metadata": {},
   "outputs": [],
   "source": [
    "x = randn(input_dim)"
   ]
  },
  {
   "cell_type": "markdown",
   "id": "2f4c29ce",
   "metadata": {},
   "source": [
    "# генерация весов входа"
   ]
  },
  {
   "cell_type": "code",
   "execution_count": 41,
   "id": "2a484bbb",
   "metadata": {},
   "outputs": [],
   "source": [
    "w1 = randn(input_dim, h_dim)\n",
    "b1 = randn(h_dim)"
   ]
  },
  {
   "cell_type": "markdown",
   "id": "609cd739",
   "metadata": {},
   "source": [
    "# генерация весов выхода"
   ]
  },
  {
   "cell_type": "code",
   "execution_count": 42,
   "id": "5f14c0c8",
   "metadata": {},
   "outputs": [],
   "source": [
    "w2 = randn(h_dim, out_dim)\n",
    "b2 = randn(out_dim)"
   ]
  },
  {
   "cell_type": "markdown",
   "id": "1d087f99",
   "metadata": {},
   "source": [
    "# функция активации скрытого слоя "
   ]
  },
  {
   "cell_type": "code",
   "execution_count": 19,
   "id": "6fc3abdd",
   "metadata": {},
   "outputs": [],
   "source": [
    "def relu(t):\n",
    "    return np.maximum(t, 0)"
   ]
  },
  {
   "cell_type": "markdown",
   "id": "5977122b",
   "metadata": {},
   "source": [
    "![title](graphics/g1.png)"
   ]
  },
  {
   "cell_type": "markdown",
   "id": "946a481c",
   "metadata": {},
   "source": [
    "# функция активации выходного слоя"
   ]
  },
  {
   "cell_type": "code",
   "execution_count": 20,
   "id": "87b75c52",
   "metadata": {},
   "outputs": [],
   "source": [
    "def softmax(t):\n",
    "    out = np.exp(t)\n",
    "    return out / np.sum(out)"
   ]
  },
  {
   "cell_type": "markdown",
   "id": "7a39c29d",
   "metadata": {},
   "source": [
    "![title](graphics/g2.png)"
   ]
  },
  {
   "cell_type": "markdown",
   "id": "8f7b6cfc",
   "metadata": {},
   "source": [
    "# генерация предсказания "
   ]
  },
  {
   "cell_type": "code",
   "execution_count": 44,
   "id": "d915021a",
   "metadata": {},
   "outputs": [],
   "source": [
    "def predict(x):\n",
    "    t1 = x @ w1 + b1 # @ == * == np.dot\n",
    "    h1 = relu(t1)\n",
    "    t2 = h1 @ w2 + b2\n",
    "    return softmax(t2)"
   ]
  },
  {
   "cell_type": "markdown",
   "id": "69b101b2",
   "metadata": {},
   "source": [
    "# проверка нейронки"
   ]
  },
  {
   "cell_type": "code",
   "execution_count": 48,
   "id": "9e655bf4",
   "metadata": {},
   "outputs": [
    {
     "name": "stdout",
     "output_type": "stream",
     "text": [
      "Predicted class: versicolor\n"
     ]
    }
   ],
   "source": [
    "probs = predict(x)\n",
    "pred_class = np.argmax(probs)\n",
    "class_names = ['setosa', 'versicolor', 'virginica']\n",
    "print('Predicted class:', class_names[pred_class])"
   ]
  }
 ],
 "metadata": {
  "kernelspec": {
   "display_name": "Python 3 (ipykernel)",
   "language": "python",
   "name": "python3"
  },
  "language_info": {
   "codemirror_mode": {
    "name": "ipython",
    "version": 3
   },
   "file_extension": ".py",
   "mimetype": "text/x-python",
   "name": "python",
   "nbconvert_exporter": "python",
   "pygments_lexer": "ipython3",
   "version": "3.10.6"
  }
 },
 "nbformat": 4,
 "nbformat_minor": 5
}
