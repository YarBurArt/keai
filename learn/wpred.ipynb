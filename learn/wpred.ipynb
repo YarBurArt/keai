{
  "cells": [
    {
      "attachments": {},
      "cell_type": "markdown",
      "metadata": {
        "colab_type": "text",
        "id": "SePCZ6CH7K8z"
      },
      "source": [
        "# Time Series Forecasting"
      ]
    },
    {
      "cell_type": "code",
      "execution_count": null,
      "metadata": {
        "colab": {},
        "colab_type": "code",
        "id": "XZ0AAHDT750j",
        "vscode": {
          "languageId": "python"
        }
      },
      "outputs": [],
      "source": [
        "from zipfile import ZipFile\n",
        "\n",
        "with ZipFile('/content/delhi-weather-data.zip', 'r') as zipObj:\n",
        "   zipObj.extractall()"
      ]
    },
    {
      "cell_type": "code",
      "execution_count": null,
      "metadata": {
        "colab": {},
        "colab_type": "code",
        "id": "wQH8Q25x772x",
        "vscode": {
          "languageId": "python"
        }
      },
      "outputs": [],
      "source": [
        "import numpy as np, pandas as pd\n",
        "import matplotlib.pyplot as plt\n",
        "import seaborn as sns, graphviz"
      ]
    },
    {
      "cell_type": "code",
      "execution_count": null,
      "metadata": {
        "colab": {},
        "colab_type": "code",
        "id": "GNz13rgX8DCK",
        "vscode": {
          "languageId": "python"
        }
      },
      "outputs": [],
      "source": [
        "df = pd.read_csv(\"/content/testset.csv\")"
      ]
    },
    {
      "cell_type": "code",
      "execution_count": 67,
      "metadata": {
        "colab": {
          "base_uri": "https://localhost:8080/",
          "height": 189
        },
        "colab_type": "code",
        "id": "MjfeSqTl8Yj8",
        "outputId": "d9f50580-9946-4faa-d08c-80ef360fdee6",
        "vscode": {
          "languageId": "python"
        }
      },
      "outputs": [
        {
          "data": {
            "text/html": [
              "<div>\n",
              "<style scoped>\n",
              "    .dataframe tbody tr th:only-of-type {\n",
              "        vertical-align: middle;\n",
              "    }\n",
              "\n",
              "    .dataframe tbody tr th {\n",
              "        vertical-align: top;\n",
              "    }\n",
              "\n",
              "    .dataframe thead th {\n",
              "        text-align: right;\n",
              "    }\n",
              "</style>\n",
              "<table border=\"1\" class=\"dataframe\">\n",
              "  <thead>\n",
              "    <tr style=\"text-align: right;\">\n",
              "      <th></th>\n",
              "      <th>datetime_utc</th>\n",
              "      <th>_conds</th>\n",
              "      <th>_dewptm</th>\n",
              "      <th>_fog</th>\n",
              "      <th>_hail</th>\n",
              "      <th>_heatindexm</th>\n",
              "      <th>_hum</th>\n",
              "      <th>_precipm</th>\n",
              "      <th>_pressurem</th>\n",
              "      <th>_rain</th>\n",
              "      <th>_snow</th>\n",
              "      <th>_tempm</th>\n",
              "      <th>_thunder</th>\n",
              "      <th>_tornado</th>\n",
              "      <th>_vism</th>\n",
              "      <th>_wdird</th>\n",
              "      <th>_wdire</th>\n",
              "      <th>_wgustm</th>\n",
              "      <th>_windchillm</th>\n",
              "      <th>_wspdm</th>\n",
              "    </tr>\n",
              "  </thead>\n",
              "  <tbody>\n",
              "    <tr>\n",
              "      <th>0</th>\n",
              "      <td>19961101-11:00</td>\n",
              "      <td>Smoke</td>\n",
              "      <td>9.0</td>\n",
              "      <td>0</td>\n",
              "      <td>0</td>\n",
              "      <td>NaN</td>\n",
              "      <td>27.0</td>\n",
              "      <td>NaN</td>\n",
              "      <td>1010.0</td>\n",
              "      <td>0</td>\n",
              "      <td>0</td>\n",
              "      <td>30.0</td>\n",
              "      <td>0</td>\n",
              "      <td>0</td>\n",
              "      <td>5.0</td>\n",
              "      <td>280.0</td>\n",
              "      <td>West</td>\n",
              "      <td>NaN</td>\n",
              "      <td>NaN</td>\n",
              "      <td>7.4</td>\n",
              "    </tr>\n",
              "    <tr>\n",
              "      <th>1</th>\n",
              "      <td>19961101-12:00</td>\n",
              "      <td>Smoke</td>\n",
              "      <td>10.0</td>\n",
              "      <td>0</td>\n",
              "      <td>0</td>\n",
              "      <td>NaN</td>\n",
              "      <td>32.0</td>\n",
              "      <td>NaN</td>\n",
              "      <td>-9999.0</td>\n",
              "      <td>0</td>\n",
              "      <td>0</td>\n",
              "      <td>28.0</td>\n",
              "      <td>0</td>\n",
              "      <td>0</td>\n",
              "      <td>NaN</td>\n",
              "      <td>0.0</td>\n",
              "      <td>North</td>\n",
              "      <td>NaN</td>\n",
              "      <td>NaN</td>\n",
              "      <td>NaN</td>\n",
              "    </tr>\n",
              "    <tr>\n",
              "      <th>2</th>\n",
              "      <td>19961101-13:00</td>\n",
              "      <td>Smoke</td>\n",
              "      <td>11.0</td>\n",
              "      <td>0</td>\n",
              "      <td>0</td>\n",
              "      <td>NaN</td>\n",
              "      <td>44.0</td>\n",
              "      <td>NaN</td>\n",
              "      <td>-9999.0</td>\n",
              "      <td>0</td>\n",
              "      <td>0</td>\n",
              "      <td>24.0</td>\n",
              "      <td>0</td>\n",
              "      <td>0</td>\n",
              "      <td>NaN</td>\n",
              "      <td>0.0</td>\n",
              "      <td>North</td>\n",
              "      <td>NaN</td>\n",
              "      <td>NaN</td>\n",
              "      <td>NaN</td>\n",
              "    </tr>\n",
              "    <tr>\n",
              "      <th>3</th>\n",
              "      <td>19961101-14:00</td>\n",
              "      <td>Smoke</td>\n",
              "      <td>10.0</td>\n",
              "      <td>0</td>\n",
              "      <td>0</td>\n",
              "      <td>NaN</td>\n",
              "      <td>41.0</td>\n",
              "      <td>NaN</td>\n",
              "      <td>1010.0</td>\n",
              "      <td>0</td>\n",
              "      <td>0</td>\n",
              "      <td>24.0</td>\n",
              "      <td>0</td>\n",
              "      <td>0</td>\n",
              "      <td>2.0</td>\n",
              "      <td>0.0</td>\n",
              "      <td>North</td>\n",
              "      <td>NaN</td>\n",
              "      <td>NaN</td>\n",
              "      <td>NaN</td>\n",
              "    </tr>\n",
              "    <tr>\n",
              "      <th>4</th>\n",
              "      <td>19961101-16:00</td>\n",
              "      <td>Smoke</td>\n",
              "      <td>11.0</td>\n",
              "      <td>0</td>\n",
              "      <td>0</td>\n",
              "      <td>NaN</td>\n",
              "      <td>47.0</td>\n",
              "      <td>NaN</td>\n",
              "      <td>1011.0</td>\n",
              "      <td>0</td>\n",
              "      <td>0</td>\n",
              "      <td>23.0</td>\n",
              "      <td>0</td>\n",
              "      <td>0</td>\n",
              "      <td>1.2</td>\n",
              "      <td>0.0</td>\n",
              "      <td>North</td>\n",
              "      <td>NaN</td>\n",
              "      <td>NaN</td>\n",
              "      <td>0.0</td>\n",
              "    </tr>\n",
              "  </tbody>\n",
              "</table>\n",
              "</div>"
            ],
            "text/plain": [
              "     datetime_utc  _conds   _dewptm  ...   _wgustm   _windchillm   _wspdm\n",
              "0  19961101-11:00   Smoke       9.0  ...       NaN           NaN      7.4\n",
              "1  19961101-12:00   Smoke      10.0  ...       NaN           NaN      NaN\n",
              "2  19961101-13:00   Smoke      11.0  ...       NaN           NaN      NaN\n",
              "3  19961101-14:00   Smoke      10.0  ...       NaN           NaN      NaN\n",
              "4  19961101-16:00   Smoke      11.0  ...       NaN           NaN      0.0\n",
              "\n",
              "[5 rows x 20 columns]"
            ]
          },
          "execution_count": 67,
          "metadata": {
            "tags": []
          },
          "output_type": "execute_result"
        }
      ],
      "source": [
        "df.head()"
      ]
    },
    {
      "cell_type": "code",
      "execution_count": null,
      "metadata": {
        "colab": {
          "base_uri": "https://localhost:8080/",
          "height": 736
        },
        "colab_type": "code",
        "id": "QOZmIOTj8a6R",
        "outputId": "6bd368c7-fc36-47c7-8d0d-1e88d93a803b",
        "vscode": {
          "languageId": "python"
        }
      },
      "outputs": [],
      "source": [
        "df[' _conds'].value_counts()"
      ]
    },
    {
      "cell_type": "markdown",
      "metadata": {
        "colab_type": "text",
        "id": "fmljCJgE-JWu"
      },
      "source": [
        "# Time Series Forecasting"
      ]
    },
    {
      "cell_type": "code",
      "execution_count": null,
      "metadata": {
        "colab": {},
        "colab_type": "code",
        "id": "S-NJIlm1-Ow3",
        "vscode": {
          "languageId": "python"
        }
      },
      "outputs": [],
      "source": [
        "# taking only temperature feature as values and datetime feature as index in the dataframe for time series forecasting of temperature\n",
        "data = pd.DataFrame(list(df[' _tempm']), index=df['datetime_utc'], columns=['temp'])"
      ]
    },
    {
      "cell_type": "code",
      "execution_count": 90,
      "metadata": {
        "colab": {
          "base_uri": "https://localhost:8080/",
          "height": 417
        },
        "colab_type": "code",
        "id": "KrdrMzdX-PwI",
        "outputId": "37da34ff-487e-41e7-8ccb-339e46b333f7",
        "vscode": {
          "languageId": "python"
        }
      },
      "outputs": [
        {
          "data": {
            "text/html": [
              "<div>\n",
              "<style scoped>\n",
              "    .dataframe tbody tr th:only-of-type {\n",
              "        vertical-align: middle;\n",
              "    }\n",
              "\n",
              "    .dataframe tbody tr th {\n",
              "        vertical-align: top;\n",
              "    }\n",
              "\n",
              "    .dataframe thead th {\n",
              "        text-align: right;\n",
              "    }\n",
              "</style>\n",
              "<table border=\"1\" class=\"dataframe\">\n",
              "  <thead>\n",
              "    <tr style=\"text-align: right;\">\n",
              "      <th></th>\n",
              "      <th>temp</th>\n",
              "    </tr>\n",
              "    <tr>\n",
              "      <th>datetime_utc</th>\n",
              "      <th></th>\n",
              "    </tr>\n",
              "  </thead>\n",
              "  <tbody>\n",
              "    <tr>\n",
              "      <th>1996-11-01 11:00:00</th>\n",
              "      <td>30.0</td>\n",
              "    </tr>\n",
              "    <tr>\n",
              "      <th>1996-11-01 12:00:00</th>\n",
              "      <td>28.0</td>\n",
              "    </tr>\n",
              "    <tr>\n",
              "      <th>1996-11-01 13:00:00</th>\n",
              "      <td>24.0</td>\n",
              "    </tr>\n",
              "    <tr>\n",
              "      <th>1996-11-01 14:00:00</th>\n",
              "      <td>24.0</td>\n",
              "    </tr>\n",
              "    <tr>\n",
              "      <th>1996-11-01 16:00:00</th>\n",
              "      <td>23.0</td>\n",
              "    </tr>\n",
              "    <tr>\n",
              "      <th>...</th>\n",
              "      <td>...</td>\n",
              "    </tr>\n",
              "    <tr>\n",
              "      <th>2017-04-24 06:00:00</th>\n",
              "      <td>34.0</td>\n",
              "    </tr>\n",
              "    <tr>\n",
              "      <th>2017-04-24 09:00:00</th>\n",
              "      <td>38.0</td>\n",
              "    </tr>\n",
              "    <tr>\n",
              "      <th>2017-04-24 12:00:00</th>\n",
              "      <td>36.0</td>\n",
              "    </tr>\n",
              "    <tr>\n",
              "      <th>2017-04-24 15:00:00</th>\n",
              "      <td>32.0</td>\n",
              "    </tr>\n",
              "    <tr>\n",
              "      <th>2017-04-24 18:00:00</th>\n",
              "      <td>30.0</td>\n",
              "    </tr>\n",
              "  </tbody>\n",
              "</table>\n",
              "<p>100990 rows × 1 columns</p>\n",
              "</div>"
            ],
            "text/plain": [
              "                     temp\n",
              "datetime_utc             \n",
              "1996-11-01 11:00:00  30.0\n",
              "1996-11-01 12:00:00  28.0\n",
              "1996-11-01 13:00:00  24.0\n",
              "1996-11-01 14:00:00  24.0\n",
              "1996-11-01 16:00:00  23.0\n",
              "...                   ...\n",
              "2017-04-24 06:00:00  34.0\n",
              "2017-04-24 09:00:00  38.0\n",
              "2017-04-24 12:00:00  36.0\n",
              "2017-04-24 15:00:00  32.0\n",
              "2017-04-24 18:00:00  30.0\n",
              "\n",
              "[100990 rows x 1 columns]"
            ]
          },
          "execution_count": 90,
          "metadata": {
            "tags": []
          },
          "output_type": "execute_result"
        }
      ],
      "source": [
        "data"
      ]
    },
    {
      "cell_type": "code",
      "execution_count": 95,
      "metadata": {
        "colab": {
          "base_uri": "https://localhost:8080/",
          "height": 34
        },
        "colab_type": "code",
        "id": "573WB1SR-iOQ",
        "outputId": "52fe20aa-d731-4a3b-a315-6fd30c045701",
        "vscode": {
          "languageId": "python"
        }
      },
      "outputs": [
        {
          "data": {
            "text/plain": [
              "(7480, 1)"
            ]
          },
          "execution_count": 95,
          "metadata": {
            "tags": []
          },
          "output_type": "execute_result"
        }
      ],
      "source": [
        "data.shape"
      ]
    },
    {
      "cell_type": "code",
      "execution_count": 96,
      "metadata": {
        "colab": {
          "base_uri": "https://localhost:8080/",
          "height": 417
        },
        "colab_type": "code",
        "id": "ybC3vNjz-k3Q",
        "outputId": "00276ae4-84b9-43ca-b0ea-0f042e2fc15e",
        "vscode": {
          "languageId": "python"
        }
      },
      "outputs": [
        {
          "data": {
            "text/html": [
              "<div>\n",
              "<style scoped>\n",
              "    .dataframe tbody tr th:only-of-type {\n",
              "        vertical-align: middle;\n",
              "    }\n",
              "\n",
              "    .dataframe tbody tr th {\n",
              "        vertical-align: top;\n",
              "    }\n",
              "\n",
              "    .dataframe thead th {\n",
              "        text-align: right;\n",
              "    }\n",
              "</style>\n",
              "<table border=\"1\" class=\"dataframe\">\n",
              "  <thead>\n",
              "    <tr style=\"text-align: right;\">\n",
              "      <th></th>\n",
              "      <th>temp</th>\n",
              "    </tr>\n",
              "    <tr>\n",
              "      <th>datetime_utc</th>\n",
              "      <th></th>\n",
              "    </tr>\n",
              "  </thead>\n",
              "  <tbody>\n",
              "    <tr>\n",
              "      <th>1996-11-01</th>\n",
              "      <td>22.333333</td>\n",
              "    </tr>\n",
              "    <tr>\n",
              "      <th>1996-11-02</th>\n",
              "      <td>22.916667</td>\n",
              "    </tr>\n",
              "    <tr>\n",
              "      <th>1996-11-03</th>\n",
              "      <td>21.791667</td>\n",
              "    </tr>\n",
              "    <tr>\n",
              "      <th>1996-11-04</th>\n",
              "      <td>22.722222</td>\n",
              "    </tr>\n",
              "    <tr>\n",
              "      <th>1996-11-05</th>\n",
              "      <td>27.800000</td>\n",
              "    </tr>\n",
              "    <tr>\n",
              "      <th>...</th>\n",
              "      <td>...</td>\n",
              "    </tr>\n",
              "    <tr>\n",
              "      <th>2017-04-20</th>\n",
              "      <td>34.500000</td>\n",
              "    </tr>\n",
              "    <tr>\n",
              "      <th>2017-04-21</th>\n",
              "      <td>34.250000</td>\n",
              "    </tr>\n",
              "    <tr>\n",
              "      <th>2017-04-22</th>\n",
              "      <td>32.900000</td>\n",
              "    </tr>\n",
              "    <tr>\n",
              "      <th>2017-04-23</th>\n",
              "      <td>32.875000</td>\n",
              "    </tr>\n",
              "    <tr>\n",
              "      <th>2017-04-24</th>\n",
              "      <td>32.000000</td>\n",
              "    </tr>\n",
              "  </tbody>\n",
              "</table>\n",
              "<p>7480 rows × 1 columns</p>\n",
              "</div>"
            ],
            "text/plain": [
              "                   temp\n",
              "datetime_utc           \n",
              "1996-11-01    22.333333\n",
              "1996-11-02    22.916667\n",
              "1996-11-03    21.791667\n",
              "1996-11-04    22.722222\n",
              "1996-11-05    27.800000\n",
              "...                 ...\n",
              "2017-04-20    34.500000\n",
              "2017-04-21    34.250000\n",
              "2017-04-22    32.900000\n",
              "2017-04-23    32.875000\n",
              "2017-04-24    32.000000\n",
              "\n",
              "[7480 rows x 1 columns]"
            ]
          },
          "execution_count": 96,
          "metadata": {
            "tags": []
          },
          "output_type": "execute_result"
        }
      ],
      "source": [
        "data"
      ]
    },
    {
      "cell_type": "code",
      "execution_count": 97,
      "metadata": {
        "colab": {
          "base_uri": "https://localhost:8080/",
          "height": 444
        },
        "colab_type": "code",
        "id": "h5ApEA6E-nNI",
        "outputId": "cccbe5f8-283e-4236-9d5e-b0ecd9897f73",
        "vscode": {
          "languageId": "python"
        }
      },
      "outputs": [
        {
          "data": {
            "image/png": "[encoded data removed]",
            "text/plain": [
              "<Figure size 1800x504 with 1 Axes>"
            ]
          },
          "metadata": {
            "tags": []
          },
          "output_type": "display_data"
        }
      ],
      "source": [
        "plt.figure(figsize=(25, 7))\n",
        "plt.plot(data, linewidth=.5)\n",
        "plt.grid()\n",
        "plt.title(\"Time Series (Years vs Temp.)\")\n",
        "plt.show()"
      ]
    },
    {
      "cell_type": "code",
      "execution_count": null,
      "metadata": {
        "colab": {},
        "colab_type": "code",
        "id": "MIQMyzPQ-Fys",
        "vscode": {
          "languageId": "python"
        }
      },
      "outputs": [],
      "source": [
        "# Scaling data to get rid of outliers\n",
        "from sklearn.preprocessing import MinMaxScaler\n",
        "scalar = MinMaxScaler(feature_range=(-1,1))\n",
        "data_scaled = scalar.fit_transform(data)"
      ]
    },
    {
      "cell_type": "code",
      "execution_count": 99,
      "metadata": {
        "colab": {
          "base_uri": "https://localhost:8080/",
          "height": 142
        },
        "colab_type": "code",
        "id": "STy-DbCq-wOY",
        "outputId": "58e21b68-2b55-49a7-a566-837173f52673",
        "vscode": {
          "languageId": "python"
        }
      },
      "outputs": [
        {
          "data": {
            "text/plain": [
              "array([[-0.07224714],\n",
              "       [-0.0391131 ],\n",
              "       [-0.10301445],\n",
              "       ...,\n",
              "       [ 0.52795217],\n",
              "       [ 0.52653214],\n",
              "       [ 0.47683109]])"
            ]
          },
          "execution_count": 99,
          "metadata": {
            "tags": []
          },
          "output_type": "execute_result"
        }
      ],
      "source": [
        "data_scaled"
      ]
    },
    {
      "cell_type": "code",
      "execution_count": 100,
      "metadata": {
        "colab": {
          "base_uri": "https://localhost:8080/",
          "height": 34
        },
        "colab_type": "code",
        "id": "9I_qluRx-4q_",
        "outputId": "2aa1787e-cdbc-4e40-a904-2802fe4c7c71",
        "vscode": {
          "languageId": "python"
        }
      },
      "outputs": [
        {
          "data": {
            "text/plain": [
              "(7480, 1)"
            ]
          },
          "execution_count": 100,
          "metadata": {
            "tags": []
          },
          "output_type": "execute_result"
        }
      ],
      "source": [
        "data_scaled.shape"
      ]
    },
    {
      "cell_type": "code",
      "execution_count": null,
      "metadata": {
        "colab": {},
        "colab_type": "code",
        "id": "kcjt-zVG-7Cv",
        "vscode": {
          "languageId": "python"
        }
      },
      "outputs": [],
      "source": [
        "timestep = 30\n",
        "X, Y = [], []\n",
        "for i in range(len(data_scaled)- (timestep)):\n",
        "    X.append(data_scaled[i:i+timestep])\n",
        "    Y.append(data_scaled[i+timestep])"
      ]
    },
    {
      "cell_type": "code",
      "execution_count": null,
      "metadata": {
        "colab": {},
        "colab_type": "code",
        "id": "t1ESxHdc_BGH",
        "vscode": {
          "languageId": "python"
        }
      },
      "outputs": [],
      "source": [
        "X, Y = np.asanyarray(X), np.asanyarray(Y)"
      ]
    },
    {
      "cell_type": "code",
      "execution_count": null,
      "metadata": {
        "colab": {},
        "colab_type": "code",
        "id": "f8goLYJf_DyP",
        "vscode": {
          "languageId": "python"
        }
      },
      "outputs": [],
      "source": [
        "k = 7300\n",
        "Xtrain, Xtest = X[:k,:,:], X[k:,:,:]    \n",
        "Ytrain, Ytest = Y[:k], Y[k:] "
      ]
    },
    {
      "cell_type": "code",
      "execution_count": 104,
      "metadata": {
        "colab": {
          "base_uri": "https://localhost:8080/",
          "height": 34
        },
        "colab_type": "code",
        "id": "cwyxZnkz_GVP",
        "outputId": "3060f006-e806-42fd-dba7-f9d19a5161c9",
        "vscode": {
          "languageId": "python"
        }
      },
      "outputs": [
        {
          "data": {
            "text/plain": [
              "(7450, 30, 1)"
            ]
          },
          "execution_count": 104,
          "metadata": {
            "tags": []
          },
          "output_type": "execute_result"
        }
      ],
      "source": [
        "X.shape"
      ]
    },
    {
      "cell_type": "code",
      "execution_count": 105,
      "metadata": {
        "colab": {
          "base_uri": "https://localhost:8080/",
          "height": 34
        },
        "colab_type": "code",
        "id": "3J9ixIVr_Juf",
        "outputId": "efe27a8e-8723-4cbe-f27c-29e42da65611",
        "vscode": {
          "languageId": "python"
        }
      },
      "outputs": [
        {
          "data": {
            "text/plain": [
              "(7300, 30, 1)"
            ]
          },
          "execution_count": 105,
          "metadata": {
            "tags": []
          },
          "output_type": "execute_result"
        }
      ],
      "source": [
        "Xtrain.shape"
      ]
    },
    {
      "cell_type": "code",
      "execution_count": 106,
      "metadata": {
        "colab": {
          "base_uri": "https://localhost:8080/",
          "height": 34
        },
        "colab_type": "code",
        "id": "OJzqJYKY-6y3",
        "outputId": "a807f8d3-567e-43be-bcfa-60a025853311",
        "vscode": {
          "languageId": "python"
        }
      },
      "outputs": [
        {
          "data": {
            "text/plain": [
              "(150, 30, 1)"
            ]
          },
          "execution_count": 106,
          "metadata": {
            "tags": []
          },
          "output_type": "execute_result"
        }
      ],
      "source": [
        "Xtest.shape"
      ]
    },
    {
      "cell_type": "code",
      "execution_count": null,
      "metadata": {
        "colab": {},
        "colab_type": "code",
        "id": "uaGi4DCb_VD_",
        "vscode": {
          "languageId": "python"
        }
      },
      "outputs": [],
      "source": [
        "from keras.layers import Dense,RepeatVector, LSTM, Dropout, Flatten, TimeDistributed, Conv1D, MaxPooling1D, Bidirectional\n",
        "from keras.models import Sequential"
      ]
    },
    {
      "cell_type": "code",
      "execution_count": 54,
      "metadata": {
        "colab": {
          "base_uri": "https://localhost:8080/",
          "height": 1000
        },
        "colab_type": "code",
        "id": "Y-ZblBaiGjX-",
        "outputId": "d2e067be-9dc2-44df-965a-7e821a91eac3",
        "vscode": {
          "languageId": "python"
        }
      },
      "outputs": [
        {
          "name": "stdout",
          "output_type": "stream",
          "text": [
            "WARNING:tensorflow:Layer lstm_25 will not use cuDNN kernel since it doesn't meet the cuDNN kernel criteria. It will use generic GPU kernel as fallback when running on GPU\n",
            "WARNING:tensorflow:Layer lstm_25 will not use cuDNN kernel since it doesn't meet the cuDNN kernel criteria. It will use generic GPU kernel as fallback when running on GPU\n",
            "WARNING:tensorflow:Layer lstm_25 will not use cuDNN kernel since it doesn't meet the cuDNN kernel criteria. It will use generic GPU kernel as fallback when running on GPU\n",
            "Epoch 1/300\n",
            "229/229 [==============================] - 26s 113ms/step - loss: 0.0199\n",
            "Epoch 2/300\n",
            "229/229 [==============================] - 26s 112ms/step - loss: 0.0118\n",
            "Epoch 3/300\n",
            "229/229 [==============================] - 25s 110ms/step - loss: 0.0115\n",
            "Epoch 4/300\n",
            "229/229 [==============================] - 25s 109ms/step - loss: 0.0107\n",
            "Epoch 5/300\n",
            "229/229 [==============================] - 25s 111ms/step - loss: 0.0110\n",
            "Epoch 6/300\n",
            "229/229 [==============================] - 26s 112ms/step - loss: 0.0103\n",
            "Epoch 7/300\n",
            "229/229 [==============================] - 25s 111ms/step - loss: 0.0103\n",
            "Epoch 8/300\n",
            "229/229 [==============================] - 28s 121ms/step - loss: 0.0102\n",
            "Epoch 9/300\n",
            "229/229 [==============================] - 25s 110ms/step - loss: 0.0101\n",
            "Epoch 10/300\n",
            "229/229 [==============================] - 26s 111ms/step - loss: 0.0103\n",
            "Epoch 11/300\n",
            "229/229 [==============================] - 25s 111ms/step - loss: 0.0099\n",
            "Epoch 12/300\n",
            "229/229 [==============================] - 26s 112ms/step - loss: 0.0096\n",
            "Epoch 13/300\n",
            "229/229 [==============================] - 24s 107ms/step - loss: 0.0093\n",
            "Epoch 14/300\n",
            "229/229 [==============================] - 25s 111ms/step - loss: 0.0093\n",
            "Epoch 15/300\n",
            "229/229 [==============================] - 26s 112ms/step - loss: 0.0090\n",
            "Epoch 16/300\n",
            "229/229 [==============================] - 25s 108ms/step - loss: 0.0090\n",
            "Epoch 17/300\n",
            "229/229 [==============================] - 25s 108ms/step - loss: 0.0087\n",
            "Epoch 18/300\n",
            "229/229 [==============================] - 25s 108ms/step - loss: 0.0090\n",
            "Epoch 19/300\n",
            "229/229 [==============================] - 25s 107ms/step - loss: 0.0086\n",
            "Epoch 20/300\n",
            "229/229 [==============================] - 25s 110ms/step - loss: 0.0082\n",
            "Epoch 21/300\n",
            "229/229 [==============================] - 25s 108ms/step - loss: 0.0082\n",
            "Epoch 22/300\n",
            "229/229 [==============================] - 25s 109ms/step - loss: 0.0079\n",
            "Epoch 23/300\n",
            "229/229 [==============================] - 24s 106ms/step - loss: 0.0079\n",
            "Epoch 24/300\n",
            "229/229 [==============================] - 24s 105ms/step - loss: 0.0076\n",
            "Epoch 25/300\n",
            "229/229 [==============================] - 25s 111ms/step - loss: 0.0075\n",
            "Epoch 26/300\n",
            "229/229 [==============================] - 24s 105ms/step - loss: 0.0073\n",
            "Epoch 27/300\n",
            "229/229 [==============================] - 24s 107ms/step - loss: 0.0071\n",
            "Epoch 28/300\n",
            "229/229 [==============================] - 24s 107ms/step - loss: 0.0068\n",
            "Epoch 29/300\n",
            "229/229 [==============================] - 24s 106ms/step - loss: 0.0064\n",
            "Epoch 30/300\n",
            "229/229 [==============================] - 26s 114ms/step - loss: 0.0061\n",
            "Epoch 31/300\n",
            "229/229 [==============================] - 25s 108ms/step - loss: 0.0059\n",
            "Epoch 32/300\n",
            "229/229 [==============================] - 24s 107ms/step - loss: 0.0055\n",
            "Epoch 33/300\n",
            "229/229 [==============================] - 25s 111ms/step - loss: 0.0054\n",
            "Epoch 34/300\n",
            "229/229 [==============================] - 25s 110ms/step - loss: 0.0048\n",
            "Epoch 35/300\n",
            "229/229 [==============================] - 25s 111ms/step - loss: 0.0044\n",
            "Epoch 36/300\n",
            "229/229 [==============================] - 24s 106ms/step - loss: 0.0042\n",
            "Epoch 37/300\n",
            "229/229 [==============================] - 25s 110ms/step - loss: 0.0038\n",
            "Epoch 38/300\n",
            "229/229 [==============================] - 25s 111ms/step - loss: 0.0035\n",
            "Epoch 39/300\n",
            "229/229 [==============================] - 25s 109ms/step - loss: 0.0032\n",
            "Epoch 40/300\n",
            "229/229 [==============================] - 25s 107ms/step - loss: 0.0031\n",
            "Epoch 41/300\n",
            "229/229 [==============================] - 25s 109ms/step - loss: 0.0028\n",
            "Epoch 42/300\n",
            "229/229 [==============================] - 25s 111ms/step - loss: 0.0023\n",
            "Epoch 43/300\n",
            "229/229 [==============================] - 24s 105ms/step - loss: 0.0024\n",
            "Epoch 44/300\n",
            "229/229 [==============================] - 25s 108ms/step - loss: 0.0020\n",
            "Epoch 45/300\n",
            "229/229 [==============================] - 25s 110ms/step - loss: 0.0021\n",
            "Epoch 46/300\n",
            "229/229 [==============================] - 25s 110ms/step - loss: 0.0020\n",
            "Epoch 47/300\n",
            "229/229 [==============================] - 25s 108ms/step - loss: 0.0016\n",
            "Epoch 48/300\n",
            "229/229 [==============================] - 25s 109ms/step - loss: 0.0015\n",
            "Epoch 49/300\n",
            "229/229 [==============================] - 25s 110ms/step - loss: 0.0013\n",
            "Epoch 50/300\n",
            "229/229 [==============================] - 24s 106ms/step - loss: 0.0014\n",
            "Epoch 51/300\n",
            "229/229 [==============================] - 24s 105ms/step - loss: 0.0012\n",
            "Epoch 52/300\n",
            "229/229 [==============================] - 25s 108ms/step - loss: 0.0010\n",
            "Epoch 53/300\n",
            "229/229 [==============================] - 25s 111ms/step - loss: 9.5722e-04\n",
            "Epoch 54/300\n",
            "229/229 [==============================] - 25s 108ms/step - loss: 9.4501e-04\n",
            "Epoch 55/300\n",
            "229/229 [==============================] - 24s 105ms/step - loss: 8.7966e-04\n",
            "Epoch 56/300\n",
            "229/229 [==============================] - 24s 106ms/step - loss: 8.1809e-04\n",
            "Epoch 57/300\n",
            "229/229 [==============================] - 26s 112ms/step - loss: 7.3792e-04\n",
            "Epoch 58/300\n",
            "229/229 [==============================] - 26s 113ms/step - loss: 8.2867e-04\n",
            "Epoch 59/300\n",
            "229/229 [==============================] - 25s 108ms/step - loss: 7.9412e-04\n",
            "Epoch 60/300\n",
            "229/229 [==============================] - 25s 110ms/step - loss: 7.1135e-04\n",
            "Epoch 61/300\n",
            "229/229 [==============================] - 25s 109ms/step - loss: 5.9927e-04\n",
            "Epoch 62/300\n",
            "229/229 [==============================] - 25s 108ms/step - loss: 6.6174e-04\n",
            "Epoch 63/300\n",
            "229/229 [==============================] - 25s 107ms/step - loss: 6.6579e-04\n",
            "Epoch 64/300\n",
            "229/229 [==============================] - 24s 107ms/step - loss: 7.3537e-04\n",
            "Epoch 65/300\n",
            "229/229 [==============================] - 25s 107ms/step - loss: 7.9393e-04\n",
            "Epoch 66/300\n",
            "229/229 [==============================] - 25s 110ms/step - loss: 7.2309e-04\n",
            "Epoch 67/300\n",
            "229/229 [==============================] - 26s 114ms/step - loss: 6.0054e-04\n",
            "Epoch 68/300\n",
            "229/229 [==============================] - 25s 110ms/step - loss: 5.4604e-04\n",
            "Epoch 69/300\n",
            "229/229 [==============================] - 25s 108ms/step - loss: 5.1615e-04\n",
            "Epoch 70/300\n",
            "229/229 [==============================] - 27s 117ms/step - loss: 4.7912e-04\n",
            "Epoch 71/300\n",
            "229/229 [==============================] - 25s 111ms/step - loss: 4.9309e-04\n",
            "Epoch 72/300\n",
            "229/229 [==============================] - 26s 115ms/step - loss: 5.3561e-04\n",
            "Epoch 73/300\n",
            "229/229 [==============================] - 25s 110ms/step - loss: 5.9691e-04\n",
            "Epoch 74/300\n",
            "229/229 [==============================] - 25s 110ms/step - loss: 5.5066e-04\n",
            "Epoch 75/300\n",
            "229/229 [==============================] - 25s 109ms/step - loss: 7.3648e-04\n",
            "Epoch 76/300\n",
            "229/229 [==============================] - 25s 109ms/step - loss: 5.0607e-04\n",
            "Epoch 77/300\n",
            "229/229 [==============================] - 25s 111ms/step - loss: 0.0081\n",
            "Epoch 78/300\n",
            "229/229 [==============================] - 25s 109ms/step - loss: 0.0018\n",
            "Epoch 79/300\n",
            "229/229 [==============================] - 25s 108ms/step - loss: 7.9902e-04\n",
            "Epoch 80/300\n",
            "229/229 [==============================] - 25s 108ms/step - loss: 5.2649e-04\n",
            "Epoch 81/300\n",
            "229/229 [==============================] - 25s 110ms/step - loss: 3.9566e-04\n",
            "Epoch 82/300\n",
            "229/229 [==============================] - 26s 114ms/step - loss: 3.4510e-04\n",
            "Epoch 83/300\n",
            "229/229 [==============================] - 25s 108ms/step - loss: 3.3117e-04\n",
            "Epoch 84/300\n",
            "229/229 [==============================] - 25s 110ms/step - loss: 3.1122e-04\n",
            "Epoch 85/300\n",
            "229/229 [==============================] - 25s 111ms/step - loss: 3.0513e-04\n",
            "Epoch 86/300\n",
            "229/229 [==============================] - 25s 107ms/step - loss: 2.7044e-04\n",
            "Epoch 87/300\n",
            "229/229 [==============================] - 26s 112ms/step - loss: 2.5410e-04\n",
            "Epoch 88/300\n",
            "229/229 [==============================] - 25s 108ms/step - loss: 2.9031e-04\n",
            "Epoch 89/300\n",
            "229/229 [==============================] - 26s 111ms/step - loss: 2.9347e-04\n",
            "Epoch 90/300\n",
            "229/229 [==============================] - 25s 108ms/step - loss: 3.0346e-04\n",
            "Epoch 91/300\n",
            "229/229 [==============================] - 25s 109ms/step - loss: 3.4860e-04\n",
            "Epoch 92/300\n",
            "229/229 [==============================] - 25s 111ms/step - loss: 3.3800e-04\n",
            "Epoch 93/300\n",
            "229/229 [==============================] - 25s 107ms/step - loss: 3.3198e-04\n",
            "Epoch 94/300\n",
            "229/229 [==============================] - 25s 107ms/step - loss: 3.4057e-04\n",
            "Epoch 95/300\n",
            "229/229 [==============================] - 26s 116ms/step - loss: 3.8150e-04\n",
            "Epoch 96/300\n",
            "229/229 [==============================] - 25s 110ms/step - loss: 3.4654e-04\n",
            "Epoch 97/300\n",
            "229/229 [==============================] - 24s 104ms/step - loss: 3.3469e-04\n",
            "Epoch 98/300\n",
            "229/229 [==============================] - 24s 107ms/step - loss: 3.2006e-04\n",
            "Epoch 99/300\n",
            "229/229 [==============================] - 25s 108ms/step - loss: 3.1988e-04\n",
            "Epoch 100/300\n",
            "229/229 [==============================] - 25s 110ms/step - loss: 3.8262e-04\n",
            "Epoch 101/300\n",
            "229/229 [==============================] - 25s 107ms/step - loss: 4.1961e-04\n",
            "Epoch 102/300\n",
            "229/229 [==============================] - 25s 109ms/step - loss: 5.1404e-04\n",
            "Epoch 103/300\n",
            "229/229 [==============================] - 24s 106ms/step - loss: 4.0459e-04\n",
            "Epoch 104/300\n",
            "229/229 [==============================] - 24s 106ms/step - loss: 2.9901e-04\n",
            "Epoch 105/300\n",
            "229/229 [==============================] - 24s 107ms/step - loss: 3.4000e-04\n",
            "Epoch 106/300\n",
            "229/229 [==============================] - 25s 111ms/step - loss: 2.9839e-04\n",
            "Epoch 107/300\n",
            "229/229 [==============================] - 26s 115ms/step - loss: 2.7253e-04\n",
            "Epoch 108/300\n",
            "229/229 [==============================] - 25s 111ms/step - loss: 2.8605e-04\n",
            "Epoch 109/300\n",
            "229/229 [==============================] - 26s 112ms/step - loss: 3.1707e-04\n",
            "Epoch 110/300\n",
            "229/229 [==============================] - 25s 111ms/step - loss: 3.3030e-04\n",
            "Epoch 111/300\n",
            "229/229 [==============================] - 26s 113ms/step - loss: 3.1581e-04\n",
            "Epoch 112/300\n",
            "229/229 [==============================] - 26s 114ms/step - loss: 3.1699e-04\n",
            "Epoch 113/300\n",
            "229/229 [==============================] - 26s 113ms/step - loss: 5.4164e-04\n",
            "Epoch 114/300\n",
            "229/229 [==============================] - 25s 111ms/step - loss: 5.2193e-04\n",
            "Epoch 115/300\n",
            "229/229 [==============================] - 26s 114ms/step - loss: 3.4542e-04\n",
            "Epoch 116/300\n",
            "229/229 [==============================] - 26s 115ms/step - loss: 2.8115e-04\n",
            "Epoch 117/300\n",
            "229/229 [==============================] - 26s 113ms/step - loss: 2.6113e-04\n",
            "Epoch 118/300\n",
            "229/229 [==============================] - 26s 112ms/step - loss: 2.6472e-04\n",
            "Epoch 119/300\n",
            "229/229 [==============================] - 25s 111ms/step - loss: 2.7399e-04\n",
            "Epoch 120/300\n",
            "229/229 [==============================] - 27s 116ms/step - loss: 2.5596e-04\n",
            "Epoch 121/300\n",
            "229/229 [==============================] - 26s 116ms/step - loss: 2.8034e-04\n",
            "Epoch 122/300\n",
            "229/229 [==============================] - 26s 115ms/step - loss: 2.5849e-04\n",
            "Epoch 123/300\n",
            "229/229 [==============================] - 26s 111ms/step - loss: 2.6399e-04\n",
            "Epoch 124/300\n",
            "229/229 [==============================] - 26s 112ms/step - loss: 2.8236e-04\n",
            "Epoch 125/300\n",
            "229/229 [==============================] - 26s 114ms/step - loss: 3.3690e-04\n",
            "Epoch 126/300\n",
            "229/229 [==============================] - 26s 112ms/step - loss: 3.9964e-04\n",
            "Epoch 127/300\n",
            "229/229 [==============================] - 26s 114ms/step - loss: 4.9139e-04\n",
            "Epoch 128/300\n",
            "229/229 [==============================] - 26s 112ms/step - loss: 4.3604e-04\n",
            "Epoch 129/300\n",
            "229/229 [==============================] - 26s 114ms/step - loss: 2.6525e-04\n",
            "Epoch 130/300\n",
            "229/229 [==============================] - 26s 111ms/step - loss: 2.4040e-04\n",
            "Epoch 131/300\n",
            "229/229 [==============================] - 27s 116ms/step - loss: 2.2496e-04\n",
            "Epoch 132/300\n",
            "229/229 [==============================] - 26s 114ms/step - loss: 2.2145e-04\n",
            "Epoch 133/300\n",
            "229/229 [==============================] - 26s 112ms/step - loss: 2.1460e-04\n",
            "Epoch 134/300\n",
            "229/229 [==============================] - 26s 115ms/step - loss: 2.4427e-04\n",
            "Epoch 135/300\n",
            "229/229 [==============================] - 25s 110ms/step - loss: 3.7653e-04\n",
            "Epoch 136/300\n",
            "229/229 [==============================] - 26s 115ms/step - loss: 4.4602e-04\n",
            "Epoch 137/300\n",
            "229/229 [==============================] - 26s 113ms/step - loss: 3.3687e-04\n",
            "Epoch 138/300\n",
            "229/229 [==============================] - 26s 115ms/step - loss: 2.8617e-04\n",
            "Epoch 139/300\n",
            "229/229 [==============================] - 26s 112ms/step - loss: 0.0020\n",
            "Epoch 140/300\n",
            "229/229 [==============================] - 26s 112ms/step - loss: 6.8737e-04\n",
            "Epoch 141/300\n",
            "229/229 [==============================] - 26s 114ms/step - loss: 3.4435e-04\n",
            "Epoch 142/300\n",
            "229/229 [==============================] - 26s 112ms/step - loss: 3.1163e-04\n",
            "Epoch 143/300\n",
            "229/229 [==============================] - 26s 116ms/step - loss: 2.0496e-04\n",
            "Epoch 144/300\n",
            "229/229 [==============================] - 26s 113ms/step - loss: 1.6046e-04\n",
            "Epoch 145/300\n",
            "229/229 [==============================] - 26s 114ms/step - loss: 1.4586e-04\n",
            "Epoch 146/300\n",
            "229/229 [==============================] - 25s 111ms/step - loss: 1.4553e-04\n",
            "Epoch 147/300\n",
            "229/229 [==============================] - 26s 113ms/step - loss: 1.4417e-04\n",
            "Epoch 148/300\n",
            "229/229 [==============================] - 26s 113ms/step - loss: 1.5942e-04\n",
            "Epoch 149/300\n",
            "229/229 [==============================] - 26s 115ms/step - loss: 1.5548e-04\n",
            "Epoch 150/300\n",
            "229/229 [==============================] - 26s 115ms/step - loss: 1.5370e-04\n",
            "Epoch 151/300\n",
            "229/229 [==============================] - 26s 114ms/step - loss: 1.8948e-04\n",
            "Epoch 152/300\n",
            "229/229 [==============================] - 26s 115ms/step - loss: 2.1455e-04\n",
            "Epoch 153/300\n",
            "229/229 [==============================] - 26s 113ms/step - loss: 2.0415e-04\n",
            "Epoch 154/300\n",
            "229/229 [==============================] - 26s 114ms/step - loss: 2.1029e-04\n",
            "Epoch 155/300\n",
            "229/229 [==============================] - 27s 117ms/step - loss: 2.1255e-04\n",
            "Epoch 156/300\n",
            "229/229 [==============================] - 26s 113ms/step - loss: 2.1899e-04\n",
            "Epoch 157/300\n",
            "229/229 [==============================] - 26s 116ms/step - loss: 2.4370e-04\n",
            "Epoch 158/300\n",
            "229/229 [==============================] - 27s 116ms/step - loss: 2.6668e-04\n",
            "Epoch 159/300\n",
            "229/229 [==============================] - 26s 114ms/step - loss: 2.3095e-04\n",
            "Epoch 160/300\n",
            "229/229 [==============================] - 26s 114ms/step - loss: 2.1727e-04\n",
            "Epoch 161/300\n",
            "229/229 [==============================] - 27s 118ms/step - loss: 2.2725e-04\n",
            "Epoch 162/300\n",
            "229/229 [==============================] - 26s 113ms/step - loss: 2.3888e-04\n",
            "Epoch 163/300\n",
            "229/229 [==============================] - 26s 114ms/step - loss: 2.2710e-04\n",
            "Epoch 164/300\n",
            "229/229 [==============================] - 26s 112ms/step - loss: 2.3171e-04\n",
            "Epoch 165/300\n",
            "229/229 [==============================] - 25s 110ms/step - loss: 2.4145e-04\n",
            "Epoch 166/300\n",
            "229/229 [==============================] - 26s 115ms/step - loss: 2.0432e-04\n",
            "Epoch 167/300\n",
            "229/229 [==============================] - 26s 113ms/step - loss: 1.9524e-04\n",
            "Epoch 168/300\n",
            "229/229 [==============================] - 26s 114ms/step - loss: 2.4489e-04\n",
            "Epoch 169/300\n",
            "229/229 [==============================] - 25s 110ms/step - loss: 5.4617e-04\n",
            "Epoch 170/300\n",
            "229/229 [==============================] - 25s 110ms/step - loss: 0.0010\n",
            "Epoch 171/300\n",
            "229/229 [==============================] - 26s 112ms/step - loss: 4.8909e-04\n",
            "Epoch 172/300\n",
            "229/229 [==============================] - 26s 111ms/step - loss: 2.5447e-04\n",
            "Epoch 173/300\n",
            "229/229 [==============================] - 25s 109ms/step - loss: 1.6715e-04\n",
            "Epoch 174/300\n",
            "229/229 [==============================] - 25s 108ms/step - loss: 1.3148e-04\n",
            "Epoch 175/300\n",
            "229/229 [==============================] - 26s 114ms/step - loss: 1.1819e-04\n",
            "Epoch 176/300\n",
            "229/229 [==============================] - 25s 111ms/step - loss: 1.1755e-04\n",
            "Epoch 177/300\n",
            "229/229 [==============================] - 25s 110ms/step - loss: 1.3036e-04\n",
            "Epoch 178/300\n",
            "229/229 [==============================] - 26s 112ms/step - loss: 1.2609e-04\n",
            "Epoch 179/300\n",
            "229/229 [==============================] - 26s 115ms/step - loss: 1.3341e-04\n",
            "Epoch 180/300\n",
            "229/229 [==============================] - 25s 110ms/step - loss: 1.3948e-04\n",
            "Epoch 181/300\n",
            "229/229 [==============================] - 25s 111ms/step - loss: 1.4315e-04\n",
            "Epoch 182/300\n",
            "229/229 [==============================] - 25s 111ms/step - loss: 1.5315e-04\n",
            "Epoch 183/300\n",
            "229/229 [==============================] - 25s 110ms/step - loss: 1.8088e-04\n",
            "Epoch 184/300\n",
            "229/229 [==============================] - 25s 107ms/step - loss: 2.0757e-04\n",
            "Epoch 185/300\n",
            "229/229 [==============================] - 26s 112ms/step - loss: 4.1057e-04\n",
            "Epoch 186/300\n",
            "229/229 [==============================] - 25s 111ms/step - loss: 3.6751e-04\n",
            "Epoch 187/300\n",
            "229/229 [==============================] - 25s 110ms/step - loss: 2.2847e-04\n",
            "Epoch 188/300\n",
            "229/229 [==============================] - 25s 110ms/step - loss: 1.7424e-04\n",
            "Epoch 189/300\n",
            "229/229 [==============================] - 26s 112ms/step - loss: 1.5248e-04\n",
            "Epoch 190/300\n",
            "229/229 [==============================] - 25s 110ms/step - loss: 1.3876e-04\n",
            "Epoch 191/300\n",
            "229/229 [==============================] - 26s 113ms/step - loss: 1.3097e-04\n",
            "Epoch 192/300\n",
            "229/229 [==============================] - 26s 113ms/step - loss: 1.4135e-04\n",
            "Epoch 193/300\n",
            "229/229 [==============================] - 25s 109ms/step - loss: 1.7364e-04\n",
            "Epoch 194/300\n",
            "229/229 [==============================] - 25s 109ms/step - loss: 1.7862e-04\n",
            "Epoch 195/300\n",
            "229/229 [==============================] - 26s 113ms/step - loss: 1.5733e-04\n",
            "Epoch 196/300\n",
            "229/229 [==============================] - 26s 111ms/step - loss: 1.6685e-04\n",
            "Epoch 197/300\n",
            "229/229 [==============================] - 25s 108ms/step - loss: 1.8449e-04\n",
            "Epoch 198/300\n",
            "229/229 [==============================] - 25s 109ms/step - loss: 2.7632e-04\n",
            "Epoch 199/300\n",
            "229/229 [==============================] - 25s 111ms/step - loss: 2.2647e-04\n",
            "Epoch 200/300\n",
            "229/229 [==============================] - 25s 111ms/step - loss: 2.0332e-04\n",
            "Epoch 201/300\n",
            "229/229 [==============================] - 25s 109ms/step - loss: 2.5580e-04\n",
            "Epoch 202/300\n",
            "229/229 [==============================] - 25s 111ms/step - loss: 2.9663e-04\n",
            "Epoch 203/300\n",
            "229/229 [==============================] - 26s 112ms/step - loss: 1.8602e-04\n",
            "Epoch 204/300\n",
            "229/229 [==============================] - 25s 110ms/step - loss: 1.5830e-04\n",
            "Epoch 205/300\n",
            "229/229 [==============================] - 25s 109ms/step - loss: 1.5826e-04\n",
            "Epoch 206/300\n",
            "229/229 [==============================] - 25s 108ms/step - loss: 1.4188e-04\n",
            "Epoch 207/300\n",
            "229/229 [==============================] - 25s 111ms/step - loss: 1.4706e-04\n",
            "Epoch 208/300\n",
            "229/229 [==============================] - 26s 111ms/step - loss: 1.7272e-04\n",
            "Epoch 209/300\n",
            "229/229 [==============================] - 25s 108ms/step - loss: 1.5626e-04\n",
            "Epoch 210/300\n",
            "229/229 [==============================] - 26s 112ms/step - loss: 1.3936e-04\n",
            "Epoch 211/300\n",
            "229/229 [==============================] - 25s 111ms/step - loss: 1.6598e-04\n",
            "Epoch 212/300\n",
            "229/229 [==============================] - 25s 108ms/step - loss: 1.5010e-04\n",
            "Epoch 213/300\n",
            "229/229 [==============================] - 26s 111ms/step - loss: 1.8192e-04\n",
            "Epoch 214/300\n",
            "229/229 [==============================] - 25s 111ms/step - loss: 2.8479e-04\n",
            "Epoch 215/300\n",
            "229/229 [==============================] - 26s 113ms/step - loss: 4.0323e-04\n",
            "Epoch 216/300\n",
            "229/229 [==============================] - 25s 111ms/step - loss: 2.0383e-04\n",
            "Epoch 217/300\n",
            "229/229 [==============================] - 25s 110ms/step - loss: 1.6334e-04\n",
            "Epoch 218/300\n",
            "229/229 [==============================] - 24s 107ms/step - loss: 1.2401e-04\n",
            "Epoch 219/300\n",
            "229/229 [==============================] - 25s 108ms/step - loss: 1.1054e-04\n",
            "Epoch 220/300\n",
            "229/229 [==============================] - 25s 110ms/step - loss: 1.0625e-04\n",
            "Epoch 221/300\n",
            "229/229 [==============================] - 25s 107ms/step - loss: 1.0676e-04\n",
            "Epoch 222/300\n",
            "229/229 [==============================] - 25s 109ms/step - loss: 1.1453e-04\n",
            "Epoch 223/300\n",
            "229/229 [==============================] - 24s 106ms/step - loss: 1.1913e-04\n",
            "Epoch 224/300\n",
            "229/229 [==============================] - 25s 111ms/step - loss: 1.3945e-04\n",
            "Epoch 225/300\n",
            "229/229 [==============================] - 26s 112ms/step - loss: 2.1489e-04\n",
            "Epoch 226/300\n",
            "229/229 [==============================] - 26s 112ms/step - loss: 3.3759e-04\n",
            "Epoch 227/300\n",
            "229/229 [==============================] - 26s 112ms/step - loss: 2.6536e-04\n",
            "Epoch 228/300\n",
            "229/229 [==============================] - 27s 116ms/step - loss: 1.9939e-04\n",
            "Epoch 229/300\n",
            "229/229 [==============================] - 25s 110ms/step - loss: 1.5335e-04\n",
            "Epoch 230/300\n",
            "229/229 [==============================] - 25s 110ms/step - loss: 1.3413e-04\n",
            "Epoch 231/300\n",
            "229/229 [==============================] - 25s 110ms/step - loss: 2.1409e-04\n",
            "Epoch 232/300\n",
            "229/229 [==============================] - 26s 112ms/step - loss: 6.7543e-04\n",
            "Epoch 233/300\n",
            "229/229 [==============================] - 26s 113ms/step - loss: 5.5147e-04\n",
            "Epoch 234/300\n",
            "229/229 [==============================] - 25s 111ms/step - loss: 1.8106e-04\n",
            "Epoch 235/300\n",
            "229/229 [==============================] - 26s 112ms/step - loss: 1.1885e-04\n",
            "Epoch 236/300\n",
            "229/229 [==============================] - 26s 113ms/step - loss: 1.0392e-04\n",
            "Epoch 237/300\n",
            "229/229 [==============================] - 26s 113ms/step - loss: 9.1159e-05\n",
            "Epoch 238/300\n",
            "229/229 [==============================] - 26s 113ms/step - loss: 9.6240e-05\n",
            "Epoch 239/300\n",
            "229/229 [==============================] - 26s 115ms/step - loss: 8.7452e-05\n",
            "Epoch 240/300\n",
            "229/229 [==============================] - 26s 114ms/step - loss: 9.1141e-05\n",
            "Epoch 241/300\n",
            "229/229 [==============================] - 26s 113ms/step - loss: 9.4840e-05\n",
            "Epoch 242/300\n",
            "229/229 [==============================] - 26s 113ms/step - loss: 9.5980e-05\n",
            "Epoch 243/300\n",
            "229/229 [==============================] - 26s 112ms/step - loss: 1.2836e-04\n",
            "Epoch 244/300\n",
            "229/229 [==============================] - 25s 109ms/step - loss: 1.2010e-04\n",
            "Epoch 245/300\n",
            "229/229 [==============================] - 25s 111ms/step - loss: 1.1692e-04\n",
            "Epoch 246/300\n",
            "229/229 [==============================] - 25s 109ms/step - loss: 1.2603e-04\n",
            "Epoch 247/300\n",
            "229/229 [==============================] - 25s 109ms/step - loss: 1.2582e-04\n",
            "Epoch 248/300\n",
            "229/229 [==============================] - 25s 111ms/step - loss: 1.2841e-04\n",
            "Epoch 249/300\n",
            "229/229 [==============================] - 25s 110ms/step - loss: 1.3015e-04\n",
            "Epoch 250/300\n",
            "229/229 [==============================] - 25s 108ms/step - loss: 1.2651e-04\n",
            "Epoch 251/300\n",
            "229/229 [==============================] - 26s 112ms/step - loss: 1.2621e-04\n",
            "Epoch 252/300\n",
            "229/229 [==============================] - 26s 113ms/step - loss: 1.3383e-04\n",
            "Epoch 253/300\n",
            "229/229 [==============================] - 25s 110ms/step - loss: 1.4404e-04\n",
            "Epoch 254/300\n",
            "229/229 [==============================] - 25s 107ms/step - loss: 1.4771e-04\n",
            "Epoch 255/300\n",
            "229/229 [==============================] - 26s 112ms/step - loss: 1.3223e-04\n",
            "Epoch 256/300\n",
            "229/229 [==============================] - 25s 110ms/step - loss: 1.4619e-04\n",
            "Epoch 257/300\n",
            "229/229 [==============================] - 26s 111ms/step - loss: 1.8380e-04\n",
            "Epoch 258/300\n",
            "229/229 [==============================] - 25s 110ms/step - loss: 5.4589e-04\n",
            "Epoch 259/300\n",
            "229/229 [==============================] - 25s 108ms/step - loss: 3.7252e-04\n",
            "Epoch 260/300\n",
            "229/229 [==============================] - 25s 110ms/step - loss: 2.4468e-04\n",
            "Epoch 261/300\n",
            "229/229 [==============================] - 25s 111ms/step - loss: 1.6062e-04\n",
            "Epoch 262/300\n",
            "229/229 [==============================] - 25s 109ms/step - loss: 1.0440e-04\n",
            "Epoch 263/300\n",
            "229/229 [==============================] - 25s 110ms/step - loss: 9.5962e-05\n",
            "Epoch 264/300\n",
            "229/229 [==============================] - 26s 114ms/step - loss: 8.7845e-05\n",
            "Epoch 265/300\n",
            "229/229 [==============================] - 25s 111ms/step - loss: 8.3857e-05\n",
            "Epoch 266/300\n",
            "229/229 [==============================] - 25s 111ms/step - loss: 8.5248e-05\n",
            "Epoch 267/300\n",
            "140/229 [=================>............] - ETA: 9s - loss: 4.2884e-05Buffered data was truncated after reaching the output size limit."
          ]
        }
      ],
      "source": [
        "model = Sequential()\n",
        "model.add(Conv1D(filters=256, kernel_size=2, activation='relu', input_shape=(30,1)))\n",
        "model.add(Conv1D(filters=128, kernel_size=2, activation='relu'))\n",
        "model.add(MaxPooling1D(pool_size=2))\n",
        "model.add(Flatten())\n",
        "model.add(RepeatVector(30))\n",
        "model.add(LSTM(units=100, return_sequences=True))\n",
        "model.add(Dropout(0.2))\n",
        "model.add(LSTM(units=100, return_sequences=True))\n",
        "model.add(LSTM(units=100, return_sequences=True))\n",
        "model.add(Bidirectional(LSTM(128, activation='relu')))\n",
        "model.add(Dense(100, activation='relu'))\n",
        "model.add(Dense(1))\n",
        "model.compile(loss='mse', optimizer='adam')\n",
        "history = model.fit(Xtrain,Ytrain,epochs=300, verbose=1 )"
      ]
    },
    {
      "cell_type": "code",
      "execution_count": null,
      "metadata": {
        "colab": {},
        "colab_type": "code",
        "id": "Ty4eGRLN6qzD",
        "vscode": {
          "languageId": "python"
        }
      },
      "outputs": [],
      "source": [
        "model.save(\"./regressor.hdf5\")"
      ]
    },
    {
      "cell_type": "code",
      "execution_count": null,
      "metadata": {
        "colab": {},
        "colab_type": "code",
        "id": "d_bdjH1A50RK",
        "vscode": {
          "languageId": "python"
        }
      },
      "outputs": [],
      "source": [
        "predict = scalar.inverse_transform(model.predict(Xtest))"
      ]
    },
    {
      "cell_type": "code",
      "execution_count": null,
      "metadata": {
        "colab": {},
        "colab_type": "code",
        "id": "0wYfyb6m58IK",
        "vscode": {
          "languageId": "python"
        }
      },
      "outputs": [],
      "source": [
        "Ytesting = scalar.inverse_transform(Ytest)"
      ]
    },
    {
      "cell_type": "code",
      "execution_count": 60,
      "metadata": {
        "colab": {
          "base_uri": "https://localhost:8080/",
          "height": 537
        },
        "colab_type": "code",
        "id": "ZDEVYg036G6K",
        "outputId": "13f584f6-f15a-4d0f-ff51-b0fb5287ee44",
        "vscode": {
          "languageId": "python"
        }
      },
      "outputs": [
        {
          "data": {
            "image/png": "[encoded data removed]",
            "text/plain": [
              "<Figure size 1440x648 with 1 Axes>"
            ]
          },
          "metadata": {
            "tags": []
          },
          "output_type": "display_data"
        }
      ],
      "source": [
        "plt.figure(figsize=(20,9))\n",
        "plt.plot(Ytesting , 'blue', linewidth=5)\n",
        "plt.plot(predict,'r' , linewidth=4)\n",
        "plt.legend(('Test','Predicted'))\n",
        "plt.show()"
      ]
    },
    {
      "cell_type": "code",
      "execution_count": 61,
      "metadata": {
        "colab": {
          "base_uri": "https://localhost:8080/",
          "height": 34
        },
        "colab_type": "code",
        "id": "Rby8tAdp6W3k",
        "outputId": "6bae72dd-1f73-499a-a0a2-bc04aecb4307",
        "vscode": {
          "languageId": "python"
        }
      },
      "outputs": [
        {
          "data": {
            "text/plain": [
              "2.992469732353368"
            ]
          },
          "execution_count": 61,
          "metadata": {
            "tags": []
          },
          "output_type": "execute_result"
        }
      ],
      "source": [
        "from sklearn.metrics import mean_squared_error\n",
        "mean_squared_error(Ytesting, predict)"
      ]
    }
  ],
  "metadata": {
    "accelerator": "GPU",
    "colab": {
      "authorship_tag": "ABX9TyOLwVgVzLOTWf2HaXZD09Lk",
      "collapsed_sections": [],
      "include_colab_link": true,
      "name": "weather.ipynb",
      "provenance": []
    },
    "kernelspec": {
      "display_name": "Python 3",
      "name": "python3"
    }
  },
  "nbformat": 4,
  "nbformat_minor": 0
}
