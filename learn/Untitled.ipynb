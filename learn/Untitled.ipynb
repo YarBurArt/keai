{
 "cells": [
  {
   "cell_type": "code",
   "execution_count": null,
   "id": "edba7242",
   "metadata": {},
   "outputs": [
    {
     "name": "stdout",
     "output_type": "stream",
     "text": [
      "1\n",
      "2\n"
     ]
    },
    {
     "name": "stderr",
     "output_type": "stream",
     "text": [
      "INFO: Created TensorFlow Lite XNNPACK delegate for CPU.\n"
     ]
    },
    {
     "name": "stdout",
     "output_type": "stream",
     "text": [
      "34\n",
      "24\n",
      "8\n",
      "5\n",
      "<class 'mediapipe.python.solution_base.SolutionOutputs'>\n"
     ]
    }
   ],
   "source": [
    "import cv2\n",
    "import mediapipe as mp\n",
    "\n",
    "cap = cv2.VideoCapture(0) #Камера\n",
    "hands = mp.solutions.hands.Hands(max_num_hands=0) #Объект ИИ для определения ладони\n",
    "draw = mp.solutions.drawing_utils #Для рисование ладони\n",
    "print(1)\n",
    "while True:\n",
    "    #Закрытие окна\n",
    "    if cv2.waitKey(1) & 0xFF == 27:\n",
    "        break\n",
    "    print(2)\n",
    "    success, image = cap.read() #Считываем изображение с камеры\n",
    "    print(34)\n",
    "    image = cv2.flip(image, -1) #Отражаем изображение для корекктной картинки\n",
    "    print(24)\n",
    "    imageRGB = cv2.cvtColor(image, cv2.COLOR_BGR2RGB) #Конвертируем в rgb\n",
    "    print(8)\n",
    "    results = hands.process(imageRGB) #Работа mediapipe\n",
    "    print(5)\n",
    "    print(results)\n",
    "    # if results.multi_hand_landmarks:\n",
    "    #     print(23)\n",
    "    #     for handLms in results.multi_hand_landmarks:\n",
    "    #         for id, lm in enumerate(handLms.landmark):\n",
    "    #             h, w, c = image.shape\n",
    "    #             cx, cy = int(lm.x * w), int(lm.y * h)\n",
    "    #         print(handLms)\n",
    "    #         draw.draw_landmarks(image, handLms, mp.solutions.hands.HAND_CONNECTIONS) #Рисуем ладонь\n",
    "\n",
    "    cv2.imshow(\"Hand\", image) #Отображаем картинку"
   ]
  }
 ],
 "metadata": {
  "kernelspec": {
   "display_name": "Python 3 (ipykernel)",
   "language": "python",
   "name": "python3"
  },
  "language_info": {
   "codemirror_mode": {
    "name": "ipython",
    "version": 3
   },
   "file_extension": ".py",
   "mimetype": "text/x-python",
   "name": "python",
   "nbconvert_exporter": "python",
   "pygments_lexer": "ipython3",
   "version": "3.10.6"
  }
 },
 "nbformat": 4,
 "nbformat_minor": 5
}
